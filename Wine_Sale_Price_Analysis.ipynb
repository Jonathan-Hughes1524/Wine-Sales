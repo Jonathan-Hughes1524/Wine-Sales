{
  "nbformat": 4,
  "nbformat_minor": 0,
  "metadata": {
    "colab": {
      "provenance": [],
      "authorship_tag": "ABX9TyOh39BwFOTPs0uaN1F8zUI+",
      "include_colab_link": true
    },
    "kernelspec": {
      "name": "python3",
      "display_name": "Python 3"
    },
    "language_info": {
      "name": "python"
    }
  },
  "cells": [
    {
      "cell_type": "markdown",
      "metadata": {
        "id": "view-in-github",
        "colab_type": "text"
      },
      "source": [
        "<a href=\"https://colab.research.google.com/github/Jonathan-Hughes1524/Wine-Sales/blob/main/Wine_Sale_Price_Analysis.ipynb\" target=\"_parent\"><img src=\"https://colab.research.google.com/assets/colab-badge.svg\" alt=\"Open In Colab\"/></a>"
      ]
    },
    {
      "cell_type": "markdown",
      "source": [
        "#Loading and Exploring Data"
      ],
      "metadata": {
        "id": "eWD4txbf5Zzd"
      }
    },
    {
      "cell_type": "code",
      "execution_count": 1,
      "metadata": {
        "id": "EeTAMK--VveF"
      },
      "outputs": [],
      "source": [
        "#Import Libraries\n",
        "import pandas as pd\n",
        "import numpy as np\n",
        "import matplotlib.pyplot as plt\n",
        "import seaborn as sns\n",
        "from google.colab import drive\n"
      ]
    },
    {
      "cell_type": "code",
      "source": [
        "#Mount Drive\n",
        "drive.mount('/content/drive')"
      ],
      "metadata": {
        "colab": {
          "base_uri": "https://localhost:8080/"
        },
        "id": "oqKapbf96k8m",
        "outputId": "8a477bcc-e76f-45ff-eab1-05d209176a60"
      },
      "execution_count": 2,
      "outputs": [
        {
          "output_type": "stream",
          "name": "stdout",
          "text": [
            "Drive already mounted at /content/drive; to attempt to forcibly remount, call drive.mount(\"/content/drive\", force_remount=True).\n"
          ]
        }
      ]
    },
    {
      "cell_type": "code",
      "source": [
        "#Load data and make eda copy for data cleaing\n",
        "path = '/content/drive/MyDrive/Coding Dojo/08 Week 8:/wine.csv'\n",
        "df = pd.read_csv(path)\n",
        "eda_df = df.copy()\n",
        "eda_df"
      ],
      "metadata": {
        "colab": {
          "base_uri": "https://localhost:8080/",
          "height": 730
        },
        "id": "RQKJ6Tdp6rhl",
        "outputId": "8195e653-30f7-473c-c945-9f0dd2f6c19a"
      },
      "execution_count": 3,
      "outputs": [
        {
          "output_type": "execute_result",
          "data": {
            "text/plain": [
              "                    winery             wine  year  rating  num_reviews  \\\n",
              "0            Teso La Monja            Tinto  2013     4.9           58   \n",
              "1                   Artadi    Vina El Pison  2018     4.9           31   \n",
              "2             Vega Sicilia            Unico  2009     4.8         1793   \n",
              "3             Vega Sicilia            Unico  1999     4.8         1705   \n",
              "4             Vega Sicilia            Unico  1996     4.8         1309   \n",
              "...                    ...              ...   ...     ...          ...   \n",
              "7495               Contino          Reserva  2016     4.2          392   \n",
              "7496  Conreria d'Scala Dei    Les Brugueres  2018     4.2          390   \n",
              "7497           Mustiguillo  Finca Terrerazo  2017     4.2          390   \n",
              "7498           Matarromera     Gran Reserva  2011     4.2          389   \n",
              "7499              Sei Solo         Preludio  2016     4.2          388   \n",
              "\n",
              "     country            region   price                  type  body  acidity  \n",
              "0     Espana              Toro  995.00              Toro Red   5.0      3.0  \n",
              "1     Espana    Vino de Espana  313.50           Tempranillo   4.0      2.0  \n",
              "2     Espana  Ribera del Duero  324.95  Ribera Del Duero Red   5.0      3.0  \n",
              "3     Espana  Ribera del Duero  692.96  Ribera Del Duero Red   5.0      3.0  \n",
              "4     Espana  Ribera del Duero  778.06  Ribera Del Duero Red   5.0      3.0  \n",
              "...      ...               ...     ...                   ...   ...      ...  \n",
              "7495  Espana             Rioja   19.98             Rioja Red   4.0      3.0  \n",
              "7496  Espana          Priorato   16.76           Priorat Red   4.0      3.0  \n",
              "7497  Espana      El Terrerazo   24.45                   Red   4.0      3.0  \n",
              "7498  Espana  Ribera del Duero   64.50  Ribera Del Duero Red   5.0      3.0  \n",
              "7499  Espana  Ribera del Duero   31.63  Ribera Del Duero Red   5.0      3.0  \n",
              "\n",
              "[7500 rows x 11 columns]"
            ],
            "text/html": [
              "\n",
              "  <div id=\"df-ea68cb81-2a45-4676-8677-73d809b8e963\">\n",
              "    <div class=\"colab-df-container\">\n",
              "      <div>\n",
              "<style scoped>\n",
              "    .dataframe tbody tr th:only-of-type {\n",
              "        vertical-align: middle;\n",
              "    }\n",
              "\n",
              "    .dataframe tbody tr th {\n",
              "        vertical-align: top;\n",
              "    }\n",
              "\n",
              "    .dataframe thead th {\n",
              "        text-align: right;\n",
              "    }\n",
              "</style>\n",
              "<table border=\"1\" class=\"dataframe\">\n",
              "  <thead>\n",
              "    <tr style=\"text-align: right;\">\n",
              "      <th></th>\n",
              "      <th>winery</th>\n",
              "      <th>wine</th>\n",
              "      <th>year</th>\n",
              "      <th>rating</th>\n",
              "      <th>num_reviews</th>\n",
              "      <th>country</th>\n",
              "      <th>region</th>\n",
              "      <th>price</th>\n",
              "      <th>type</th>\n",
              "      <th>body</th>\n",
              "      <th>acidity</th>\n",
              "    </tr>\n",
              "  </thead>\n",
              "  <tbody>\n",
              "    <tr>\n",
              "      <th>0</th>\n",
              "      <td>Teso La Monja</td>\n",
              "      <td>Tinto</td>\n",
              "      <td>2013</td>\n",
              "      <td>4.9</td>\n",
              "      <td>58</td>\n",
              "      <td>Espana</td>\n",
              "      <td>Toro</td>\n",
              "      <td>995.00</td>\n",
              "      <td>Toro Red</td>\n",
              "      <td>5.0</td>\n",
              "      <td>3.0</td>\n",
              "    </tr>\n",
              "    <tr>\n",
              "      <th>1</th>\n",
              "      <td>Artadi</td>\n",
              "      <td>Vina El Pison</td>\n",
              "      <td>2018</td>\n",
              "      <td>4.9</td>\n",
              "      <td>31</td>\n",
              "      <td>Espana</td>\n",
              "      <td>Vino de Espana</td>\n",
              "      <td>313.50</td>\n",
              "      <td>Tempranillo</td>\n",
              "      <td>4.0</td>\n",
              "      <td>2.0</td>\n",
              "    </tr>\n",
              "    <tr>\n",
              "      <th>2</th>\n",
              "      <td>Vega Sicilia</td>\n",
              "      <td>Unico</td>\n",
              "      <td>2009</td>\n",
              "      <td>4.8</td>\n",
              "      <td>1793</td>\n",
              "      <td>Espana</td>\n",
              "      <td>Ribera del Duero</td>\n",
              "      <td>324.95</td>\n",
              "      <td>Ribera Del Duero Red</td>\n",
              "      <td>5.0</td>\n",
              "      <td>3.0</td>\n",
              "    </tr>\n",
              "    <tr>\n",
              "      <th>3</th>\n",
              "      <td>Vega Sicilia</td>\n",
              "      <td>Unico</td>\n",
              "      <td>1999</td>\n",
              "      <td>4.8</td>\n",
              "      <td>1705</td>\n",
              "      <td>Espana</td>\n",
              "      <td>Ribera del Duero</td>\n",
              "      <td>692.96</td>\n",
              "      <td>Ribera Del Duero Red</td>\n",
              "      <td>5.0</td>\n",
              "      <td>3.0</td>\n",
              "    </tr>\n",
              "    <tr>\n",
              "      <th>4</th>\n",
              "      <td>Vega Sicilia</td>\n",
              "      <td>Unico</td>\n",
              "      <td>1996</td>\n",
              "      <td>4.8</td>\n",
              "      <td>1309</td>\n",
              "      <td>Espana</td>\n",
              "      <td>Ribera del Duero</td>\n",
              "      <td>778.06</td>\n",
              "      <td>Ribera Del Duero Red</td>\n",
              "      <td>5.0</td>\n",
              "      <td>3.0</td>\n",
              "    </tr>\n",
              "    <tr>\n",
              "      <th>...</th>\n",
              "      <td>...</td>\n",
              "      <td>...</td>\n",
              "      <td>...</td>\n",
              "      <td>...</td>\n",
              "      <td>...</td>\n",
              "      <td>...</td>\n",
              "      <td>...</td>\n",
              "      <td>...</td>\n",
              "      <td>...</td>\n",
              "      <td>...</td>\n",
              "      <td>...</td>\n",
              "    </tr>\n",
              "    <tr>\n",
              "      <th>7495</th>\n",
              "      <td>Contino</td>\n",
              "      <td>Reserva</td>\n",
              "      <td>2016</td>\n",
              "      <td>4.2</td>\n",
              "      <td>392</td>\n",
              "      <td>Espana</td>\n",
              "      <td>Rioja</td>\n",
              "      <td>19.98</td>\n",
              "      <td>Rioja Red</td>\n",
              "      <td>4.0</td>\n",
              "      <td>3.0</td>\n",
              "    </tr>\n",
              "    <tr>\n",
              "      <th>7496</th>\n",
              "      <td>Conreria d'Scala Dei</td>\n",
              "      <td>Les Brugueres</td>\n",
              "      <td>2018</td>\n",
              "      <td>4.2</td>\n",
              "      <td>390</td>\n",
              "      <td>Espana</td>\n",
              "      <td>Priorato</td>\n",
              "      <td>16.76</td>\n",
              "      <td>Priorat Red</td>\n",
              "      <td>4.0</td>\n",
              "      <td>3.0</td>\n",
              "    </tr>\n",
              "    <tr>\n",
              "      <th>7497</th>\n",
              "      <td>Mustiguillo</td>\n",
              "      <td>Finca Terrerazo</td>\n",
              "      <td>2017</td>\n",
              "      <td>4.2</td>\n",
              "      <td>390</td>\n",
              "      <td>Espana</td>\n",
              "      <td>El Terrerazo</td>\n",
              "      <td>24.45</td>\n",
              "      <td>Red</td>\n",
              "      <td>4.0</td>\n",
              "      <td>3.0</td>\n",
              "    </tr>\n",
              "    <tr>\n",
              "      <th>7498</th>\n",
              "      <td>Matarromera</td>\n",
              "      <td>Gran Reserva</td>\n",
              "      <td>2011</td>\n",
              "      <td>4.2</td>\n",
              "      <td>389</td>\n",
              "      <td>Espana</td>\n",
              "      <td>Ribera del Duero</td>\n",
              "      <td>64.50</td>\n",
              "      <td>Ribera Del Duero Red</td>\n",
              "      <td>5.0</td>\n",
              "      <td>3.0</td>\n",
              "    </tr>\n",
              "    <tr>\n",
              "      <th>7499</th>\n",
              "      <td>Sei Solo</td>\n",
              "      <td>Preludio</td>\n",
              "      <td>2016</td>\n",
              "      <td>4.2</td>\n",
              "      <td>388</td>\n",
              "      <td>Espana</td>\n",
              "      <td>Ribera del Duero</td>\n",
              "      <td>31.63</td>\n",
              "      <td>Ribera Del Duero Red</td>\n",
              "      <td>5.0</td>\n",
              "      <td>3.0</td>\n",
              "    </tr>\n",
              "  </tbody>\n",
              "</table>\n",
              "<p>7500 rows × 11 columns</p>\n",
              "</div>\n",
              "      <button class=\"colab-df-convert\" onclick=\"convertToInteractive('df-ea68cb81-2a45-4676-8677-73d809b8e963')\"\n",
              "              title=\"Convert this dataframe to an interactive table.\"\n",
              "              style=\"display:none;\">\n",
              "        \n",
              "  <svg xmlns=\"http://www.w3.org/2000/svg\" height=\"24px\"viewBox=\"0 0 24 24\"\n",
              "       width=\"24px\">\n",
              "    <path d=\"M0 0h24v24H0V0z\" fill=\"none\"/>\n",
              "    <path d=\"M18.56 5.44l.94 2.06.94-2.06 2.06-.94-2.06-.94-.94-2.06-.94 2.06-2.06.94zm-11 1L8.5 8.5l.94-2.06 2.06-.94-2.06-.94L8.5 2.5l-.94 2.06-2.06.94zm10 10l.94 2.06.94-2.06 2.06-.94-2.06-.94-.94-2.06-.94 2.06-2.06.94z\"/><path d=\"M17.41 7.96l-1.37-1.37c-.4-.4-.92-.59-1.43-.59-.52 0-1.04.2-1.43.59L10.3 9.45l-7.72 7.72c-.78.78-.78 2.05 0 2.83L4 21.41c.39.39.9.59 1.41.59.51 0 1.02-.2 1.41-.59l7.78-7.78 2.81-2.81c.8-.78.8-2.07 0-2.86zM5.41 20L4 18.59l7.72-7.72 1.47 1.35L5.41 20z\"/>\n",
              "  </svg>\n",
              "      </button>\n",
              "      \n",
              "  <style>\n",
              "    .colab-df-container {\n",
              "      display:flex;\n",
              "      flex-wrap:wrap;\n",
              "      gap: 12px;\n",
              "    }\n",
              "\n",
              "    .colab-df-convert {\n",
              "      background-color: #E8F0FE;\n",
              "      border: none;\n",
              "      border-radius: 50%;\n",
              "      cursor: pointer;\n",
              "      display: none;\n",
              "      fill: #1967D2;\n",
              "      height: 32px;\n",
              "      padding: 0 0 0 0;\n",
              "      width: 32px;\n",
              "    }\n",
              "\n",
              "    .colab-df-convert:hover {\n",
              "      background-color: #E2EBFA;\n",
              "      box-shadow: 0px 1px 2px rgba(60, 64, 67, 0.3), 0px 1px 3px 1px rgba(60, 64, 67, 0.15);\n",
              "      fill: #174EA6;\n",
              "    }\n",
              "\n",
              "    [theme=dark] .colab-df-convert {\n",
              "      background-color: #3B4455;\n",
              "      fill: #D2E3FC;\n",
              "    }\n",
              "\n",
              "    [theme=dark] .colab-df-convert:hover {\n",
              "      background-color: #434B5C;\n",
              "      box-shadow: 0px 1px 3px 1px rgba(0, 0, 0, 0.15);\n",
              "      filter: drop-shadow(0px 1px 2px rgba(0, 0, 0, 0.3));\n",
              "      fill: #FFFFFF;\n",
              "    }\n",
              "  </style>\n",
              "\n",
              "      <script>\n",
              "        const buttonEl =\n",
              "          document.querySelector('#df-ea68cb81-2a45-4676-8677-73d809b8e963 button.colab-df-convert');\n",
              "        buttonEl.style.display =\n",
              "          google.colab.kernel.accessAllowed ? 'block' : 'none';\n",
              "\n",
              "        async function convertToInteractive(key) {\n",
              "          const element = document.querySelector('#df-ea68cb81-2a45-4676-8677-73d809b8e963');\n",
              "          const dataTable =\n",
              "            await google.colab.kernel.invokeFunction('convertToInteractive',\n",
              "                                                     [key], {});\n",
              "          if (!dataTable) return;\n",
              "\n",
              "          const docLinkHtml = 'Like what you see? Visit the ' +\n",
              "            '<a target=\"_blank\" href=https://colab.research.google.com/notebooks/data_table.ipynb>data table notebook</a>'\n",
              "            + ' to learn more about interactive tables.';\n",
              "          element.innerHTML = '';\n",
              "          dataTable['output_type'] = 'display_data';\n",
              "          await google.colab.output.renderOutput(dataTable, element);\n",
              "          const docLink = document.createElement('div');\n",
              "          docLink.innerHTML = docLinkHtml;\n",
              "          element.appendChild(docLink);\n",
              "        }\n",
              "      </script>\n",
              "    </div>\n",
              "  </div>\n",
              "  "
            ]
          },
          "metadata": {},
          "execution_count": 3
        }
      ]
    },
    {
      "cell_type": "code",
      "source": [
        "#Check data types and missing data\n",
        "df.info()"
      ],
      "metadata": {
        "colab": {
          "base_uri": "https://localhost:8080/"
        },
        "id": "jaq1bHIJKG8N",
        "outputId": "b93849bc-cb73-47b7-dd01-6e249daabf7a"
      },
      "execution_count": 4,
      "outputs": [
        {
          "output_type": "stream",
          "name": "stdout",
          "text": [
            "<class 'pandas.core.frame.DataFrame'>\n",
            "RangeIndex: 7500 entries, 0 to 7499\n",
            "Data columns (total 11 columns):\n",
            " #   Column       Non-Null Count  Dtype  \n",
            "---  ------       --------------  -----  \n",
            " 0   winery       7500 non-null   object \n",
            " 1   wine         7500 non-null   object \n",
            " 2   year         7498 non-null   object \n",
            " 3   rating       7500 non-null   float64\n",
            " 4   num_reviews  7500 non-null   int64  \n",
            " 5   country      7500 non-null   object \n",
            " 6   region       7500 non-null   object \n",
            " 7   price        7500 non-null   float64\n",
            " 8   type         6955 non-null   object \n",
            " 9   body         6331 non-null   float64\n",
            " 10  acidity      6331 non-null   float64\n",
            "dtypes: float64(4), int64(1), object(6)\n",
            "memory usage: 644.7+ KB\n"
          ]
        }
      ]
    },
    {
      "cell_type": "code",
      "source": [
        "# Check duplicates\n",
        "eda_df.duplicated().sum()"
      ],
      "metadata": {
        "colab": {
          "base_uri": "https://localhost:8080/"
        },
        "id": "gvcr-LPDKisN",
        "outputId": "02791daa-22d5-4b52-9082-bc220cfd557e"
      },
      "execution_count": 5,
      "outputs": [
        {
          "output_type": "execute_result",
          "data": {
            "text/plain": [
              "5452"
            ]
          },
          "metadata": {},
          "execution_count": 5
        }
      ]
    },
    {
      "cell_type": "code",
      "source": [
        "# Drop duplicates\n",
        "eda_df = eda_df.drop_duplicates()\n",
        "eda_df.duplicated().sum()"
      ],
      "metadata": {
        "colab": {
          "base_uri": "https://localhost:8080/"
        },
        "id": "9ZBmMS2oKsen",
        "outputId": "4cfdc68b-9f27-4652-df63-b5129f3c6486"
      },
      "execution_count": 6,
      "outputs": [
        {
          "output_type": "execute_result",
          "data": {
            "text/plain": [
              "0"
            ]
          },
          "metadata": {},
          "execution_count": 6
        }
      ]
    },
    {
      "cell_type": "code",
      "source": [
        "for col in eda_df.select_dtypes('object'):\n",
        "  print(eda_df[col].value_counts())"
      ],
      "metadata": {
        "colab": {
          "base_uri": "https://localhost:8080/"
        },
        "id": "BBo1p1iiMQcY",
        "outputId": "25282613-e42b-4fe0-b30b-f6396aa5d823"
      },
      "execution_count": 7,
      "outputs": [
        {
          "output_type": "stream",
          "name": "stdout",
          "text": [
            "Vega Sicilia                            97\n",
            "Alvaro Palacios                         48\n",
            "Artadi                                  43\n",
            "La Rioja Alta                           36\n",
            "Marques de Murrieta                     33\n",
            "                                        ..\n",
            "Valdelosfrailes                          1\n",
            "Briego                                   1\n",
            "Guillem Carol - Cellers Carol Valles     1\n",
            "Particular                               1\n",
            "Binigrau                                 1\n",
            "Name: winery, Length: 480, dtype: int64\n",
            "Tinto                                                 56\n",
            "Unico                                                 41\n",
            "Valbuena 5o                                           32\n",
            "Reserva                                               31\n",
            "Priorat                                               26\n",
            "                                                      ..\n",
            "San Valentin Parellada                                 1\n",
            "Silvanus Edicion Limitada Ribera del Duero             1\n",
            "El Jardin de las Iguales Vinedo Historico Garnacha     1\n",
            "Garnacha Vinas Centenarias                             1\n",
            "Capricho Crianza                                       1\n",
            "Name: wine, Length: 847, dtype: int64\n",
            "2016    243\n",
            "2017    240\n",
            "2015    206\n",
            "2018    196\n",
            "2014    158\n",
            "       ... \n",
            "1953      1\n",
            "1972      1\n",
            "1974      1\n",
            "1931      1\n",
            "1925      1\n",
            "Name: year, Length: 71, dtype: int64\n",
            "Espana    2048\n",
            "Name: country, dtype: int64\n",
            "Ribera del Duero                   541\n",
            "Rioja                              479\n",
            "Priorato                           250\n",
            "Toro                                82\n",
            "Castilla y Leon                     51\n",
            "                                  ... \n",
            "Ribera del Gallego-Cinco Villas      1\n",
            "Monterrei                            1\n",
            "Jerez Cream                          1\n",
            "Condado de Huelva                    1\n",
            "Abona                                1\n",
            "Name: region, Length: 76, dtype: int64\n",
            "Ribera Del Duero Red    535\n",
            "Rioja Red               451\n",
            "Priorat Red             238\n",
            "Red                     210\n",
            "Toro Red                 78\n",
            "Tempranillo              73\n",
            "Sherry                   56\n",
            "Rioja White              37\n",
            "Pedro Ximenez            35\n",
            "Grenache                 35\n",
            "Albarino                 34\n",
            "Cava                     33\n",
            "Verdejo                  27\n",
            "Monastrell               18\n",
            "Mencia                   17\n",
            "Montsant Red             17\n",
            "Syrah                    15\n",
            "Chardonnay               13\n",
            "Cabernet Sauvignon       11\n",
            "Sparkling                 5\n",
            "Sauvignon Blanc           4\n",
            "Name: type, dtype: int64\n"
          ]
        }
      ]
    },
    {
      "cell_type": "code",
      "source": [
        "#Check for missing\n",
        "eda_df.isna().sum()"
      ],
      "metadata": {
        "colab": {
          "base_uri": "https://localhost:8080/"
        },
        "id": "ngcBxeYdO_jT",
        "outputId": "3a3b1858-2611-449f-c048-b1e6b6c81edf"
      },
      "execution_count": 8,
      "outputs": [
        {
          "output_type": "execute_result",
          "data": {
            "text/plain": [
              "winery           0\n",
              "wine             0\n",
              "year             2\n",
              "rating           0\n",
              "num_reviews      0\n",
              "country          0\n",
              "region           0\n",
              "price            0\n",
              "type           106\n",
              "body           271\n",
              "acidity        271\n",
              "dtype: int64"
            ]
          },
          "metadata": {},
          "execution_count": 8
        }
      ]
    },
    {
      "cell_type": "code",
      "source": [
        "#Locating all missings\n",
        "eda_df.loc[eda_df.isna().any(axis=1)]"
      ],
      "metadata": {
        "colab": {
          "base_uri": "https://localhost:8080/",
          "height": 817
        },
        "id": "DeEwNOFPOFnH",
        "outputId": "2bdad729-68f6-40cc-9a2b-e8e15559c250"
      },
      "execution_count": 9,
      "outputs": [
        {
          "output_type": "execute_result",
          "data": {
            "text/plain": [
              "                    winery                                wine  year  rating  \\\n",
              "46            Vega Sicilia      Unico Reserva Especial Edicion   NaN     4.7   \n",
              "120          Finca Moncloa                    Tintilla de Rota  2016     4.7   \n",
              "147        Rafael Palacios           Sorte O Soro Val do Bibei  2019     4.7   \n",
              "156   Gutierrez de la Vega  Recondita Armonia Monastrell Dulce  1987     4.7   \n",
              "254    Costers del Siurana                      Dolc de L'Obac  2006     4.6   \n",
              "...                    ...                                 ...   ...     ...   \n",
              "2021           Mustiguillo                     Finca Terrerazo  2017     4.2   \n",
              "2022           Matarromera                        Gran Reserva  2011     4.2   \n",
              "2023              Sei Solo                            Preludio  2016     4.2   \n",
              "2024    Vinedos de Paganos                          El Puntido  2005     4.2   \n",
              "6100     Remirez de Ganuza                        Rioja Blanco  2017     4.2   \n",
              "\n",
              "      num_reviews country            region      price                  type  \\\n",
              "46          12421  Espana  Ribera del Duero  423.50000  Ribera Del Duero Red   \n",
              "120            92  Espana             Cadiz   43.13000                   NaN   \n",
              "147            37  Espana        Valdeorras  194.86000                   NaN   \n",
              "156            27  Espana          Alicante   81.90000                   NaN   \n",
              "254            94  Espana          Priorato  117.23942                   NaN   \n",
              "...           ...     ...               ...        ...                   ...   \n",
              "2021          390  Espana      El Terrerazo   24.45000                   Red   \n",
              "2022          389  Espana  Ribera del Duero   64.50000  Ribera Del Duero Red   \n",
              "2023          388  Espana  Ribera del Duero   31.63000  Ribera Del Duero Red   \n",
              "2024          384  Espana             Rioja   73.00000             Rioja Red   \n",
              "6100          421  Espana             Rioja   29.15000           Rioja White   \n",
              "\n",
              "      body  acidity  \n",
              "46     5.0      3.0  \n",
              "120    NaN      NaN  \n",
              "147    NaN      NaN  \n",
              "156    NaN      NaN  \n",
              "254    NaN      NaN  \n",
              "...    ...      ...  \n",
              "2021   NaN      NaN  \n",
              "2022   NaN      NaN  \n",
              "2023   NaN      NaN  \n",
              "2024   NaN      NaN  \n",
              "6100   NaN      NaN  \n",
              "\n",
              "[273 rows x 11 columns]"
            ],
            "text/html": [
              "\n",
              "  <div id=\"df-28bc5533-db9b-4274-86ee-187f4132b849\">\n",
              "    <div class=\"colab-df-container\">\n",
              "      <div>\n",
              "<style scoped>\n",
              "    .dataframe tbody tr th:only-of-type {\n",
              "        vertical-align: middle;\n",
              "    }\n",
              "\n",
              "    .dataframe tbody tr th {\n",
              "        vertical-align: top;\n",
              "    }\n",
              "\n",
              "    .dataframe thead th {\n",
              "        text-align: right;\n",
              "    }\n",
              "</style>\n",
              "<table border=\"1\" class=\"dataframe\">\n",
              "  <thead>\n",
              "    <tr style=\"text-align: right;\">\n",
              "      <th></th>\n",
              "      <th>winery</th>\n",
              "      <th>wine</th>\n",
              "      <th>year</th>\n",
              "      <th>rating</th>\n",
              "      <th>num_reviews</th>\n",
              "      <th>country</th>\n",
              "      <th>region</th>\n",
              "      <th>price</th>\n",
              "      <th>type</th>\n",
              "      <th>body</th>\n",
              "      <th>acidity</th>\n",
              "    </tr>\n",
              "  </thead>\n",
              "  <tbody>\n",
              "    <tr>\n",
              "      <th>46</th>\n",
              "      <td>Vega Sicilia</td>\n",
              "      <td>Unico Reserva Especial Edicion</td>\n",
              "      <td>NaN</td>\n",
              "      <td>4.7</td>\n",
              "      <td>12421</td>\n",
              "      <td>Espana</td>\n",
              "      <td>Ribera del Duero</td>\n",
              "      <td>423.50000</td>\n",
              "      <td>Ribera Del Duero Red</td>\n",
              "      <td>5.0</td>\n",
              "      <td>3.0</td>\n",
              "    </tr>\n",
              "    <tr>\n",
              "      <th>120</th>\n",
              "      <td>Finca Moncloa</td>\n",
              "      <td>Tintilla de Rota</td>\n",
              "      <td>2016</td>\n",
              "      <td>4.7</td>\n",
              "      <td>92</td>\n",
              "      <td>Espana</td>\n",
              "      <td>Cadiz</td>\n",
              "      <td>43.13000</td>\n",
              "      <td>NaN</td>\n",
              "      <td>NaN</td>\n",
              "      <td>NaN</td>\n",
              "    </tr>\n",
              "    <tr>\n",
              "      <th>147</th>\n",
              "      <td>Rafael Palacios</td>\n",
              "      <td>Sorte O Soro Val do Bibei</td>\n",
              "      <td>2019</td>\n",
              "      <td>4.7</td>\n",
              "      <td>37</td>\n",
              "      <td>Espana</td>\n",
              "      <td>Valdeorras</td>\n",
              "      <td>194.86000</td>\n",
              "      <td>NaN</td>\n",
              "      <td>NaN</td>\n",
              "      <td>NaN</td>\n",
              "    </tr>\n",
              "    <tr>\n",
              "      <th>156</th>\n",
              "      <td>Gutierrez de la Vega</td>\n",
              "      <td>Recondita Armonia Monastrell Dulce</td>\n",
              "      <td>1987</td>\n",
              "      <td>4.7</td>\n",
              "      <td>27</td>\n",
              "      <td>Espana</td>\n",
              "      <td>Alicante</td>\n",
              "      <td>81.90000</td>\n",
              "      <td>NaN</td>\n",
              "      <td>NaN</td>\n",
              "      <td>NaN</td>\n",
              "    </tr>\n",
              "    <tr>\n",
              "      <th>254</th>\n",
              "      <td>Costers del Siurana</td>\n",
              "      <td>Dolc de L'Obac</td>\n",
              "      <td>2006</td>\n",
              "      <td>4.6</td>\n",
              "      <td>94</td>\n",
              "      <td>Espana</td>\n",
              "      <td>Priorato</td>\n",
              "      <td>117.23942</td>\n",
              "      <td>NaN</td>\n",
              "      <td>NaN</td>\n",
              "      <td>NaN</td>\n",
              "    </tr>\n",
              "    <tr>\n",
              "      <th>...</th>\n",
              "      <td>...</td>\n",
              "      <td>...</td>\n",
              "      <td>...</td>\n",
              "      <td>...</td>\n",
              "      <td>...</td>\n",
              "      <td>...</td>\n",
              "      <td>...</td>\n",
              "      <td>...</td>\n",
              "      <td>...</td>\n",
              "      <td>...</td>\n",
              "      <td>...</td>\n",
              "    </tr>\n",
              "    <tr>\n",
              "      <th>2021</th>\n",
              "      <td>Mustiguillo</td>\n",
              "      <td>Finca Terrerazo</td>\n",
              "      <td>2017</td>\n",
              "      <td>4.2</td>\n",
              "      <td>390</td>\n",
              "      <td>Espana</td>\n",
              "      <td>El Terrerazo</td>\n",
              "      <td>24.45000</td>\n",
              "      <td>Red</td>\n",
              "      <td>NaN</td>\n",
              "      <td>NaN</td>\n",
              "    </tr>\n",
              "    <tr>\n",
              "      <th>2022</th>\n",
              "      <td>Matarromera</td>\n",
              "      <td>Gran Reserva</td>\n",
              "      <td>2011</td>\n",
              "      <td>4.2</td>\n",
              "      <td>389</td>\n",
              "      <td>Espana</td>\n",
              "      <td>Ribera del Duero</td>\n",
              "      <td>64.50000</td>\n",
              "      <td>Ribera Del Duero Red</td>\n",
              "      <td>NaN</td>\n",
              "      <td>NaN</td>\n",
              "    </tr>\n",
              "    <tr>\n",
              "      <th>2023</th>\n",
              "      <td>Sei Solo</td>\n",
              "      <td>Preludio</td>\n",
              "      <td>2016</td>\n",
              "      <td>4.2</td>\n",
              "      <td>388</td>\n",
              "      <td>Espana</td>\n",
              "      <td>Ribera del Duero</td>\n",
              "      <td>31.63000</td>\n",
              "      <td>Ribera Del Duero Red</td>\n",
              "      <td>NaN</td>\n",
              "      <td>NaN</td>\n",
              "    </tr>\n",
              "    <tr>\n",
              "      <th>2024</th>\n",
              "      <td>Vinedos de Paganos</td>\n",
              "      <td>El Puntido</td>\n",
              "      <td>2005</td>\n",
              "      <td>4.2</td>\n",
              "      <td>384</td>\n",
              "      <td>Espana</td>\n",
              "      <td>Rioja</td>\n",
              "      <td>73.00000</td>\n",
              "      <td>Rioja Red</td>\n",
              "      <td>NaN</td>\n",
              "      <td>NaN</td>\n",
              "    </tr>\n",
              "    <tr>\n",
              "      <th>6100</th>\n",
              "      <td>Remirez de Ganuza</td>\n",
              "      <td>Rioja Blanco</td>\n",
              "      <td>2017</td>\n",
              "      <td>4.2</td>\n",
              "      <td>421</td>\n",
              "      <td>Espana</td>\n",
              "      <td>Rioja</td>\n",
              "      <td>29.15000</td>\n",
              "      <td>Rioja White</td>\n",
              "      <td>NaN</td>\n",
              "      <td>NaN</td>\n",
              "    </tr>\n",
              "  </tbody>\n",
              "</table>\n",
              "<p>273 rows × 11 columns</p>\n",
              "</div>\n",
              "      <button class=\"colab-df-convert\" onclick=\"convertToInteractive('df-28bc5533-db9b-4274-86ee-187f4132b849')\"\n",
              "              title=\"Convert this dataframe to an interactive table.\"\n",
              "              style=\"display:none;\">\n",
              "        \n",
              "  <svg xmlns=\"http://www.w3.org/2000/svg\" height=\"24px\"viewBox=\"0 0 24 24\"\n",
              "       width=\"24px\">\n",
              "    <path d=\"M0 0h24v24H0V0z\" fill=\"none\"/>\n",
              "    <path d=\"M18.56 5.44l.94 2.06.94-2.06 2.06-.94-2.06-.94-.94-2.06-.94 2.06-2.06.94zm-11 1L8.5 8.5l.94-2.06 2.06-.94-2.06-.94L8.5 2.5l-.94 2.06-2.06.94zm10 10l.94 2.06.94-2.06 2.06-.94-2.06-.94-.94-2.06-.94 2.06-2.06.94z\"/><path d=\"M17.41 7.96l-1.37-1.37c-.4-.4-.92-.59-1.43-.59-.52 0-1.04.2-1.43.59L10.3 9.45l-7.72 7.72c-.78.78-.78 2.05 0 2.83L4 21.41c.39.39.9.59 1.41.59.51 0 1.02-.2 1.41-.59l7.78-7.78 2.81-2.81c.8-.78.8-2.07 0-2.86zM5.41 20L4 18.59l7.72-7.72 1.47 1.35L5.41 20z\"/>\n",
              "  </svg>\n",
              "      </button>\n",
              "      \n",
              "  <style>\n",
              "    .colab-df-container {\n",
              "      display:flex;\n",
              "      flex-wrap:wrap;\n",
              "      gap: 12px;\n",
              "    }\n",
              "\n",
              "    .colab-df-convert {\n",
              "      background-color: #E8F0FE;\n",
              "      border: none;\n",
              "      border-radius: 50%;\n",
              "      cursor: pointer;\n",
              "      display: none;\n",
              "      fill: #1967D2;\n",
              "      height: 32px;\n",
              "      padding: 0 0 0 0;\n",
              "      width: 32px;\n",
              "    }\n",
              "\n",
              "    .colab-df-convert:hover {\n",
              "      background-color: #E2EBFA;\n",
              "      box-shadow: 0px 1px 2px rgba(60, 64, 67, 0.3), 0px 1px 3px 1px rgba(60, 64, 67, 0.15);\n",
              "      fill: #174EA6;\n",
              "    }\n",
              "\n",
              "    [theme=dark] .colab-df-convert {\n",
              "      background-color: #3B4455;\n",
              "      fill: #D2E3FC;\n",
              "    }\n",
              "\n",
              "    [theme=dark] .colab-df-convert:hover {\n",
              "      background-color: #434B5C;\n",
              "      box-shadow: 0px 1px 3px 1px rgba(0, 0, 0, 0.15);\n",
              "      filter: drop-shadow(0px 1px 2px rgba(0, 0, 0, 0.3));\n",
              "      fill: #FFFFFF;\n",
              "    }\n",
              "  </style>\n",
              "\n",
              "      <script>\n",
              "        const buttonEl =\n",
              "          document.querySelector('#df-28bc5533-db9b-4274-86ee-187f4132b849 button.colab-df-convert');\n",
              "        buttonEl.style.display =\n",
              "          google.colab.kernel.accessAllowed ? 'block' : 'none';\n",
              "\n",
              "        async function convertToInteractive(key) {\n",
              "          const element = document.querySelector('#df-28bc5533-db9b-4274-86ee-187f4132b849');\n",
              "          const dataTable =\n",
              "            await google.colab.kernel.invokeFunction('convertToInteractive',\n",
              "                                                     [key], {});\n",
              "          if (!dataTable) return;\n",
              "\n",
              "          const docLinkHtml = 'Like what you see? Visit the ' +\n",
              "            '<a target=\"_blank\" href=https://colab.research.google.com/notebooks/data_table.ipynb>data table notebook</a>'\n",
              "            + ' to learn more about interactive tables.';\n",
              "          element.innerHTML = '';\n",
              "          dataTable['output_type'] = 'display_data';\n",
              "          await google.colab.output.renderOutput(dataTable, element);\n",
              "          const docLink = document.createElement('div');\n",
              "          docLink.innerHTML = docLinkHtml;\n",
              "          element.appendChild(docLink);\n",
              "        }\n",
              "      </script>\n",
              "    </div>\n",
              "  </div>\n",
              "  "
            ]
          },
          "metadata": {},
          "execution_count": 9
        }
      ]
    },
    {
      "cell_type": "code",
      "source": [
        "#View missing year\n",
        "eda_df[eda_df['year'].isna()]"
      ],
      "metadata": {
        "colab": {
          "base_uri": "https://localhost:8080/",
          "height": 245
        },
        "id": "f7frZN9OPbxX",
        "outputId": "28df7b33-9f84-4eaa-8ae0-8e96b367d9b3"
      },
      "execution_count": 10,
      "outputs": [
        {
          "output_type": "execute_result",
          "data": {
            "text/plain": [
              "           winery                            wine year  rating  num_reviews  \\\n",
              "46   Vega Sicilia  Unico Reserva Especial Edicion  NaN     4.7        12421   \n",
              "851      La Unica                  Fourth Edition  NaN     4.4          131   \n",
              "\n",
              "    country            region  price                  type  body  acidity  \n",
              "46   Espana  Ribera del Duero  423.5  Ribera Del Duero Red   5.0      3.0  \n",
              "851  Espana    Vino de Espana   40.0           Tempranillo   4.0      2.0  "
            ],
            "text/html": [
              "\n",
              "  <div id=\"df-8e6d9db1-5647-4fc0-bcf1-ff395d4038ad\">\n",
              "    <div class=\"colab-df-container\">\n",
              "      <div>\n",
              "<style scoped>\n",
              "    .dataframe tbody tr th:only-of-type {\n",
              "        vertical-align: middle;\n",
              "    }\n",
              "\n",
              "    .dataframe tbody tr th {\n",
              "        vertical-align: top;\n",
              "    }\n",
              "\n",
              "    .dataframe thead th {\n",
              "        text-align: right;\n",
              "    }\n",
              "</style>\n",
              "<table border=\"1\" class=\"dataframe\">\n",
              "  <thead>\n",
              "    <tr style=\"text-align: right;\">\n",
              "      <th></th>\n",
              "      <th>winery</th>\n",
              "      <th>wine</th>\n",
              "      <th>year</th>\n",
              "      <th>rating</th>\n",
              "      <th>num_reviews</th>\n",
              "      <th>country</th>\n",
              "      <th>region</th>\n",
              "      <th>price</th>\n",
              "      <th>type</th>\n",
              "      <th>body</th>\n",
              "      <th>acidity</th>\n",
              "    </tr>\n",
              "  </thead>\n",
              "  <tbody>\n",
              "    <tr>\n",
              "      <th>46</th>\n",
              "      <td>Vega Sicilia</td>\n",
              "      <td>Unico Reserva Especial Edicion</td>\n",
              "      <td>NaN</td>\n",
              "      <td>4.7</td>\n",
              "      <td>12421</td>\n",
              "      <td>Espana</td>\n",
              "      <td>Ribera del Duero</td>\n",
              "      <td>423.5</td>\n",
              "      <td>Ribera Del Duero Red</td>\n",
              "      <td>5.0</td>\n",
              "      <td>3.0</td>\n",
              "    </tr>\n",
              "    <tr>\n",
              "      <th>851</th>\n",
              "      <td>La Unica</td>\n",
              "      <td>Fourth Edition</td>\n",
              "      <td>NaN</td>\n",
              "      <td>4.4</td>\n",
              "      <td>131</td>\n",
              "      <td>Espana</td>\n",
              "      <td>Vino de Espana</td>\n",
              "      <td>40.0</td>\n",
              "      <td>Tempranillo</td>\n",
              "      <td>4.0</td>\n",
              "      <td>2.0</td>\n",
              "    </tr>\n",
              "  </tbody>\n",
              "</table>\n",
              "</div>\n",
              "      <button class=\"colab-df-convert\" onclick=\"convertToInteractive('df-8e6d9db1-5647-4fc0-bcf1-ff395d4038ad')\"\n",
              "              title=\"Convert this dataframe to an interactive table.\"\n",
              "              style=\"display:none;\">\n",
              "        \n",
              "  <svg xmlns=\"http://www.w3.org/2000/svg\" height=\"24px\"viewBox=\"0 0 24 24\"\n",
              "       width=\"24px\">\n",
              "    <path d=\"M0 0h24v24H0V0z\" fill=\"none\"/>\n",
              "    <path d=\"M18.56 5.44l.94 2.06.94-2.06 2.06-.94-2.06-.94-.94-2.06-.94 2.06-2.06.94zm-11 1L8.5 8.5l.94-2.06 2.06-.94-2.06-.94L8.5 2.5l-.94 2.06-2.06.94zm10 10l.94 2.06.94-2.06 2.06-.94-2.06-.94-.94-2.06-.94 2.06-2.06.94z\"/><path d=\"M17.41 7.96l-1.37-1.37c-.4-.4-.92-.59-1.43-.59-.52 0-1.04.2-1.43.59L10.3 9.45l-7.72 7.72c-.78.78-.78 2.05 0 2.83L4 21.41c.39.39.9.59 1.41.59.51 0 1.02-.2 1.41-.59l7.78-7.78 2.81-2.81c.8-.78.8-2.07 0-2.86zM5.41 20L4 18.59l7.72-7.72 1.47 1.35L5.41 20z\"/>\n",
              "  </svg>\n",
              "      </button>\n",
              "      \n",
              "  <style>\n",
              "    .colab-df-container {\n",
              "      display:flex;\n",
              "      flex-wrap:wrap;\n",
              "      gap: 12px;\n",
              "    }\n",
              "\n",
              "    .colab-df-convert {\n",
              "      background-color: #E8F0FE;\n",
              "      border: none;\n",
              "      border-radius: 50%;\n",
              "      cursor: pointer;\n",
              "      display: none;\n",
              "      fill: #1967D2;\n",
              "      height: 32px;\n",
              "      padding: 0 0 0 0;\n",
              "      width: 32px;\n",
              "    }\n",
              "\n",
              "    .colab-df-convert:hover {\n",
              "      background-color: #E2EBFA;\n",
              "      box-shadow: 0px 1px 2px rgba(60, 64, 67, 0.3), 0px 1px 3px 1px rgba(60, 64, 67, 0.15);\n",
              "      fill: #174EA6;\n",
              "    }\n",
              "\n",
              "    [theme=dark] .colab-df-convert {\n",
              "      background-color: #3B4455;\n",
              "      fill: #D2E3FC;\n",
              "    }\n",
              "\n",
              "    [theme=dark] .colab-df-convert:hover {\n",
              "      background-color: #434B5C;\n",
              "      box-shadow: 0px 1px 3px 1px rgba(0, 0, 0, 0.15);\n",
              "      filter: drop-shadow(0px 1px 2px rgba(0, 0, 0, 0.3));\n",
              "      fill: #FFFFFF;\n",
              "    }\n",
              "  </style>\n",
              "\n",
              "      <script>\n",
              "        const buttonEl =\n",
              "          document.querySelector('#df-8e6d9db1-5647-4fc0-bcf1-ff395d4038ad button.colab-df-convert');\n",
              "        buttonEl.style.display =\n",
              "          google.colab.kernel.accessAllowed ? 'block' : 'none';\n",
              "\n",
              "        async function convertToInteractive(key) {\n",
              "          const element = document.querySelector('#df-8e6d9db1-5647-4fc0-bcf1-ff395d4038ad');\n",
              "          const dataTable =\n",
              "            await google.colab.kernel.invokeFunction('convertToInteractive',\n",
              "                                                     [key], {});\n",
              "          if (!dataTable) return;\n",
              "\n",
              "          const docLinkHtml = 'Like what you see? Visit the ' +\n",
              "            '<a target=\"_blank\" href=https://colab.research.google.com/notebooks/data_table.ipynb>data table notebook</a>'\n",
              "            + ' to learn more about interactive tables.';\n",
              "          element.innerHTML = '';\n",
              "          dataTable['output_type'] = 'display_data';\n",
              "          await google.colab.output.renderOutput(dataTable, element);\n",
              "          const docLink = document.createElement('div');\n",
              "          docLink.innerHTML = docLinkHtml;\n",
              "          element.appendChild(docLink);\n",
              "        }\n",
              "      </script>\n",
              "    </div>\n",
              "  </div>\n",
              "  "
            ]
          },
          "metadata": {},
          "execution_count": 10
        }
      ]
    },
    {
      "cell_type": "code",
      "source": [
        "#View missing body\n",
        "eda_df[eda_df['body'].isna()]"
      ],
      "metadata": {
        "colab": {
          "base_uri": "https://localhost:8080/",
          "height": 800
        },
        "id": "NKWIE4KFPkZy",
        "outputId": "c7de7d38-49f0-4a6f-d6f9-417551a9cad5"
      },
      "execution_count": 11,
      "outputs": [
        {
          "output_type": "execute_result",
          "data": {
            "text/plain": [
              "                      winery                                wine  year  \\\n",
              "120            Finca Moncloa                    Tintilla de Rota  2016   \n",
              "147          Rafael Palacios           Sorte O Soro Val do Bibei  2019   \n",
              "156     Gutierrez de la Vega  Recondita Armonia Monastrell Dulce  1987   \n",
              "254      Costers del Siurana                      Dolc de L'Obac  2006   \n",
              "288   Francisco Garcia Perez          Adega do Moucho Treixadura  2017   \n",
              "...                      ...                                 ...   ...   \n",
              "2021             Mustiguillo                     Finca Terrerazo  2017   \n",
              "2022             Matarromera                        Gran Reserva  2011   \n",
              "2023                Sei Solo                            Preludio  2016   \n",
              "2024      Vinedos de Paganos                          El Puntido  2005   \n",
              "6100       Remirez de Ganuza                        Rioja Blanco  2017   \n",
              "\n",
              "      rating  num_reviews country            region      price  \\\n",
              "120      4.7           92  Espana             Cadiz   43.13000   \n",
              "147      4.7           37  Espana        Valdeorras  194.86000   \n",
              "156      4.7           27  Espana          Alicante   81.90000   \n",
              "254      4.6           94  Espana          Priorato  117.23942   \n",
              "288      4.6           53  Espana           Ribeiro   34.50000   \n",
              "...      ...          ...     ...               ...        ...   \n",
              "2021     4.2          390  Espana      El Terrerazo   24.45000   \n",
              "2022     4.2          389  Espana  Ribera del Duero   64.50000   \n",
              "2023     4.2          388  Espana  Ribera del Duero   31.63000   \n",
              "2024     4.2          384  Espana             Rioja   73.00000   \n",
              "6100     4.2          421  Espana             Rioja   29.15000   \n",
              "\n",
              "                      type  body  acidity  \n",
              "120                    NaN   NaN      NaN  \n",
              "147                    NaN   NaN      NaN  \n",
              "156                    NaN   NaN      NaN  \n",
              "254                    NaN   NaN      NaN  \n",
              "288                    NaN   NaN      NaN  \n",
              "...                    ...   ...      ...  \n",
              "2021                   Red   NaN      NaN  \n",
              "2022  Ribera Del Duero Red   NaN      NaN  \n",
              "2023  Ribera Del Duero Red   NaN      NaN  \n",
              "2024             Rioja Red   NaN      NaN  \n",
              "6100           Rioja White   NaN      NaN  \n",
              "\n",
              "[271 rows x 11 columns]"
            ],
            "text/html": [
              "\n",
              "  <div id=\"df-29e8ad4c-665d-4c50-95cd-38507b77f91d\">\n",
              "    <div class=\"colab-df-container\">\n",
              "      <div>\n",
              "<style scoped>\n",
              "    .dataframe tbody tr th:only-of-type {\n",
              "        vertical-align: middle;\n",
              "    }\n",
              "\n",
              "    .dataframe tbody tr th {\n",
              "        vertical-align: top;\n",
              "    }\n",
              "\n",
              "    .dataframe thead th {\n",
              "        text-align: right;\n",
              "    }\n",
              "</style>\n",
              "<table border=\"1\" class=\"dataframe\">\n",
              "  <thead>\n",
              "    <tr style=\"text-align: right;\">\n",
              "      <th></th>\n",
              "      <th>winery</th>\n",
              "      <th>wine</th>\n",
              "      <th>year</th>\n",
              "      <th>rating</th>\n",
              "      <th>num_reviews</th>\n",
              "      <th>country</th>\n",
              "      <th>region</th>\n",
              "      <th>price</th>\n",
              "      <th>type</th>\n",
              "      <th>body</th>\n",
              "      <th>acidity</th>\n",
              "    </tr>\n",
              "  </thead>\n",
              "  <tbody>\n",
              "    <tr>\n",
              "      <th>120</th>\n",
              "      <td>Finca Moncloa</td>\n",
              "      <td>Tintilla de Rota</td>\n",
              "      <td>2016</td>\n",
              "      <td>4.7</td>\n",
              "      <td>92</td>\n",
              "      <td>Espana</td>\n",
              "      <td>Cadiz</td>\n",
              "      <td>43.13000</td>\n",
              "      <td>NaN</td>\n",
              "      <td>NaN</td>\n",
              "      <td>NaN</td>\n",
              "    </tr>\n",
              "    <tr>\n",
              "      <th>147</th>\n",
              "      <td>Rafael Palacios</td>\n",
              "      <td>Sorte O Soro Val do Bibei</td>\n",
              "      <td>2019</td>\n",
              "      <td>4.7</td>\n",
              "      <td>37</td>\n",
              "      <td>Espana</td>\n",
              "      <td>Valdeorras</td>\n",
              "      <td>194.86000</td>\n",
              "      <td>NaN</td>\n",
              "      <td>NaN</td>\n",
              "      <td>NaN</td>\n",
              "    </tr>\n",
              "    <tr>\n",
              "      <th>156</th>\n",
              "      <td>Gutierrez de la Vega</td>\n",
              "      <td>Recondita Armonia Monastrell Dulce</td>\n",
              "      <td>1987</td>\n",
              "      <td>4.7</td>\n",
              "      <td>27</td>\n",
              "      <td>Espana</td>\n",
              "      <td>Alicante</td>\n",
              "      <td>81.90000</td>\n",
              "      <td>NaN</td>\n",
              "      <td>NaN</td>\n",
              "      <td>NaN</td>\n",
              "    </tr>\n",
              "    <tr>\n",
              "      <th>254</th>\n",
              "      <td>Costers del Siurana</td>\n",
              "      <td>Dolc de L'Obac</td>\n",
              "      <td>2006</td>\n",
              "      <td>4.6</td>\n",
              "      <td>94</td>\n",
              "      <td>Espana</td>\n",
              "      <td>Priorato</td>\n",
              "      <td>117.23942</td>\n",
              "      <td>NaN</td>\n",
              "      <td>NaN</td>\n",
              "      <td>NaN</td>\n",
              "    </tr>\n",
              "    <tr>\n",
              "      <th>288</th>\n",
              "      <td>Francisco Garcia Perez</td>\n",
              "      <td>Adega do Moucho Treixadura</td>\n",
              "      <td>2017</td>\n",
              "      <td>4.6</td>\n",
              "      <td>53</td>\n",
              "      <td>Espana</td>\n",
              "      <td>Ribeiro</td>\n",
              "      <td>34.50000</td>\n",
              "      <td>NaN</td>\n",
              "      <td>NaN</td>\n",
              "      <td>NaN</td>\n",
              "    </tr>\n",
              "    <tr>\n",
              "      <th>...</th>\n",
              "      <td>...</td>\n",
              "      <td>...</td>\n",
              "      <td>...</td>\n",
              "      <td>...</td>\n",
              "      <td>...</td>\n",
              "      <td>...</td>\n",
              "      <td>...</td>\n",
              "      <td>...</td>\n",
              "      <td>...</td>\n",
              "      <td>...</td>\n",
              "      <td>...</td>\n",
              "    </tr>\n",
              "    <tr>\n",
              "      <th>2021</th>\n",
              "      <td>Mustiguillo</td>\n",
              "      <td>Finca Terrerazo</td>\n",
              "      <td>2017</td>\n",
              "      <td>4.2</td>\n",
              "      <td>390</td>\n",
              "      <td>Espana</td>\n",
              "      <td>El Terrerazo</td>\n",
              "      <td>24.45000</td>\n",
              "      <td>Red</td>\n",
              "      <td>NaN</td>\n",
              "      <td>NaN</td>\n",
              "    </tr>\n",
              "    <tr>\n",
              "      <th>2022</th>\n",
              "      <td>Matarromera</td>\n",
              "      <td>Gran Reserva</td>\n",
              "      <td>2011</td>\n",
              "      <td>4.2</td>\n",
              "      <td>389</td>\n",
              "      <td>Espana</td>\n",
              "      <td>Ribera del Duero</td>\n",
              "      <td>64.50000</td>\n",
              "      <td>Ribera Del Duero Red</td>\n",
              "      <td>NaN</td>\n",
              "      <td>NaN</td>\n",
              "    </tr>\n",
              "    <tr>\n",
              "      <th>2023</th>\n",
              "      <td>Sei Solo</td>\n",
              "      <td>Preludio</td>\n",
              "      <td>2016</td>\n",
              "      <td>4.2</td>\n",
              "      <td>388</td>\n",
              "      <td>Espana</td>\n",
              "      <td>Ribera del Duero</td>\n",
              "      <td>31.63000</td>\n",
              "      <td>Ribera Del Duero Red</td>\n",
              "      <td>NaN</td>\n",
              "      <td>NaN</td>\n",
              "    </tr>\n",
              "    <tr>\n",
              "      <th>2024</th>\n",
              "      <td>Vinedos de Paganos</td>\n",
              "      <td>El Puntido</td>\n",
              "      <td>2005</td>\n",
              "      <td>4.2</td>\n",
              "      <td>384</td>\n",
              "      <td>Espana</td>\n",
              "      <td>Rioja</td>\n",
              "      <td>73.00000</td>\n",
              "      <td>Rioja Red</td>\n",
              "      <td>NaN</td>\n",
              "      <td>NaN</td>\n",
              "    </tr>\n",
              "    <tr>\n",
              "      <th>6100</th>\n",
              "      <td>Remirez de Ganuza</td>\n",
              "      <td>Rioja Blanco</td>\n",
              "      <td>2017</td>\n",
              "      <td>4.2</td>\n",
              "      <td>421</td>\n",
              "      <td>Espana</td>\n",
              "      <td>Rioja</td>\n",
              "      <td>29.15000</td>\n",
              "      <td>Rioja White</td>\n",
              "      <td>NaN</td>\n",
              "      <td>NaN</td>\n",
              "    </tr>\n",
              "  </tbody>\n",
              "</table>\n",
              "<p>271 rows × 11 columns</p>\n",
              "</div>\n",
              "      <button class=\"colab-df-convert\" onclick=\"convertToInteractive('df-29e8ad4c-665d-4c50-95cd-38507b77f91d')\"\n",
              "              title=\"Convert this dataframe to an interactive table.\"\n",
              "              style=\"display:none;\">\n",
              "        \n",
              "  <svg xmlns=\"http://www.w3.org/2000/svg\" height=\"24px\"viewBox=\"0 0 24 24\"\n",
              "       width=\"24px\">\n",
              "    <path d=\"M0 0h24v24H0V0z\" fill=\"none\"/>\n",
              "    <path d=\"M18.56 5.44l.94 2.06.94-2.06 2.06-.94-2.06-.94-.94-2.06-.94 2.06-2.06.94zm-11 1L8.5 8.5l.94-2.06 2.06-.94-2.06-.94L8.5 2.5l-.94 2.06-2.06.94zm10 10l.94 2.06.94-2.06 2.06-.94-2.06-.94-.94-2.06-.94 2.06-2.06.94z\"/><path d=\"M17.41 7.96l-1.37-1.37c-.4-.4-.92-.59-1.43-.59-.52 0-1.04.2-1.43.59L10.3 9.45l-7.72 7.72c-.78.78-.78 2.05 0 2.83L4 21.41c.39.39.9.59 1.41.59.51 0 1.02-.2 1.41-.59l7.78-7.78 2.81-2.81c.8-.78.8-2.07 0-2.86zM5.41 20L4 18.59l7.72-7.72 1.47 1.35L5.41 20z\"/>\n",
              "  </svg>\n",
              "      </button>\n",
              "      \n",
              "  <style>\n",
              "    .colab-df-container {\n",
              "      display:flex;\n",
              "      flex-wrap:wrap;\n",
              "      gap: 12px;\n",
              "    }\n",
              "\n",
              "    .colab-df-convert {\n",
              "      background-color: #E8F0FE;\n",
              "      border: none;\n",
              "      border-radius: 50%;\n",
              "      cursor: pointer;\n",
              "      display: none;\n",
              "      fill: #1967D2;\n",
              "      height: 32px;\n",
              "      padding: 0 0 0 0;\n",
              "      width: 32px;\n",
              "    }\n",
              "\n",
              "    .colab-df-convert:hover {\n",
              "      background-color: #E2EBFA;\n",
              "      box-shadow: 0px 1px 2px rgba(60, 64, 67, 0.3), 0px 1px 3px 1px rgba(60, 64, 67, 0.15);\n",
              "      fill: #174EA6;\n",
              "    }\n",
              "\n",
              "    [theme=dark] .colab-df-convert {\n",
              "      background-color: #3B4455;\n",
              "      fill: #D2E3FC;\n",
              "    }\n",
              "\n",
              "    [theme=dark] .colab-df-convert:hover {\n",
              "      background-color: #434B5C;\n",
              "      box-shadow: 0px 1px 3px 1px rgba(0, 0, 0, 0.15);\n",
              "      filter: drop-shadow(0px 1px 2px rgba(0, 0, 0, 0.3));\n",
              "      fill: #FFFFFF;\n",
              "    }\n",
              "  </style>\n",
              "\n",
              "      <script>\n",
              "        const buttonEl =\n",
              "          document.querySelector('#df-29e8ad4c-665d-4c50-95cd-38507b77f91d button.colab-df-convert');\n",
              "        buttonEl.style.display =\n",
              "          google.colab.kernel.accessAllowed ? 'block' : 'none';\n",
              "\n",
              "        async function convertToInteractive(key) {\n",
              "          const element = document.querySelector('#df-29e8ad4c-665d-4c50-95cd-38507b77f91d');\n",
              "          const dataTable =\n",
              "            await google.colab.kernel.invokeFunction('convertToInteractive',\n",
              "                                                     [key], {});\n",
              "          if (!dataTable) return;\n",
              "\n",
              "          const docLinkHtml = 'Like what you see? Visit the ' +\n",
              "            '<a target=\"_blank\" href=https://colab.research.google.com/notebooks/data_table.ipynb>data table notebook</a>'\n",
              "            + ' to learn more about interactive tables.';\n",
              "          element.innerHTML = '';\n",
              "          dataTable['output_type'] = 'display_data';\n",
              "          await google.colab.output.renderOutput(dataTable, element);\n",
              "          const docLink = document.createElement('div');\n",
              "          docLink.innerHTML = docLinkHtml;\n",
              "          element.appendChild(docLink);\n",
              "        }\n",
              "      </script>\n",
              "    </div>\n",
              "  </div>\n",
              "  "
            ]
          },
          "metadata": {},
          "execution_count": 11
        }
      ]
    },
    {
      "cell_type": "code",
      "source": [
        "#View missing type\n",
        "eda_df[eda_df['type'].isna()]"
      ],
      "metadata": {
        "colab": {
          "base_uri": "https://localhost:8080/",
          "height": 730
        },
        "id": "9_FrBtlEPtyM",
        "outputId": "5bf2e6dd-9cbf-48f1-8689-82ee6c2921a4"
      },
      "execution_count": 12,
      "outputs": [
        {
          "output_type": "execute_result",
          "data": {
            "text/plain": [
              "                      winery                                wine  year  \\\n",
              "120            Finca Moncloa                    Tintilla de Rota  2016   \n",
              "147          Rafael Palacios           Sorte O Soro Val do Bibei  2019   \n",
              "156     Gutierrez de la Vega  Recondita Armonia Monastrell Dulce  1987   \n",
              "254      Costers del Siurana                      Dolc de L'Obac  2006   \n",
              "288   Francisco Garcia Perez          Adega do Moucho Treixadura  2017   \n",
              "...                      ...                                 ...   ...   \n",
              "1934                 Gramona                             Gessami  2020   \n",
              "1982             Emilio Moro                  La Revelia Godello  2018   \n",
              "1995                Culebron              Fondillon Gran Reserva  1964   \n",
              "2011          Ramon do Casar                          Treixadura  2020   \n",
              "2014                Binigrau                              Nounat  2020   \n",
              "\n",
              "      rating  num_reviews country      region      price type  body  acidity  \n",
              "120      4.7           92  Espana       Cadiz   43.13000  NaN   NaN      NaN  \n",
              "147      4.7           37  Espana  Valdeorras  194.86000  NaN   NaN      NaN  \n",
              "156      4.7           27  Espana    Alicante   81.90000  NaN   NaN      NaN  \n",
              "254      4.6           94  Espana    Priorato  117.23942  NaN   NaN      NaN  \n",
              "288      4.6           53  Espana     Ribeiro   34.50000  NaN   NaN      NaN  \n",
              "...      ...          ...     ...         ...        ...  ...   ...      ...  \n",
              "1934     4.2          692  Espana     Penedes   11.20000  NaN   NaN      NaN  \n",
              "1982     4.2          484  Espana      Bierzo   21.95000  NaN   NaN      NaN  \n",
              "1995     4.2          432  Espana    Alicante   49.95000  NaN   NaN      NaN  \n",
              "2011     4.2          407  Espana     Ribeiro   11.95000  NaN   NaN      NaN  \n",
              "2014     4.2          404  Espana    Mallorca   19.90000  NaN   NaN      NaN  \n",
              "\n",
              "[106 rows x 11 columns]"
            ],
            "text/html": [
              "\n",
              "  <div id=\"df-f5d9a6f4-e35c-484e-99fe-2f5386337295\">\n",
              "    <div class=\"colab-df-container\">\n",
              "      <div>\n",
              "<style scoped>\n",
              "    .dataframe tbody tr th:only-of-type {\n",
              "        vertical-align: middle;\n",
              "    }\n",
              "\n",
              "    .dataframe tbody tr th {\n",
              "        vertical-align: top;\n",
              "    }\n",
              "\n",
              "    .dataframe thead th {\n",
              "        text-align: right;\n",
              "    }\n",
              "</style>\n",
              "<table border=\"1\" class=\"dataframe\">\n",
              "  <thead>\n",
              "    <tr style=\"text-align: right;\">\n",
              "      <th></th>\n",
              "      <th>winery</th>\n",
              "      <th>wine</th>\n",
              "      <th>year</th>\n",
              "      <th>rating</th>\n",
              "      <th>num_reviews</th>\n",
              "      <th>country</th>\n",
              "      <th>region</th>\n",
              "      <th>price</th>\n",
              "      <th>type</th>\n",
              "      <th>body</th>\n",
              "      <th>acidity</th>\n",
              "    </tr>\n",
              "  </thead>\n",
              "  <tbody>\n",
              "    <tr>\n",
              "      <th>120</th>\n",
              "      <td>Finca Moncloa</td>\n",
              "      <td>Tintilla de Rota</td>\n",
              "      <td>2016</td>\n",
              "      <td>4.7</td>\n",
              "      <td>92</td>\n",
              "      <td>Espana</td>\n",
              "      <td>Cadiz</td>\n",
              "      <td>43.13000</td>\n",
              "      <td>NaN</td>\n",
              "      <td>NaN</td>\n",
              "      <td>NaN</td>\n",
              "    </tr>\n",
              "    <tr>\n",
              "      <th>147</th>\n",
              "      <td>Rafael Palacios</td>\n",
              "      <td>Sorte O Soro Val do Bibei</td>\n",
              "      <td>2019</td>\n",
              "      <td>4.7</td>\n",
              "      <td>37</td>\n",
              "      <td>Espana</td>\n",
              "      <td>Valdeorras</td>\n",
              "      <td>194.86000</td>\n",
              "      <td>NaN</td>\n",
              "      <td>NaN</td>\n",
              "      <td>NaN</td>\n",
              "    </tr>\n",
              "    <tr>\n",
              "      <th>156</th>\n",
              "      <td>Gutierrez de la Vega</td>\n",
              "      <td>Recondita Armonia Monastrell Dulce</td>\n",
              "      <td>1987</td>\n",
              "      <td>4.7</td>\n",
              "      <td>27</td>\n",
              "      <td>Espana</td>\n",
              "      <td>Alicante</td>\n",
              "      <td>81.90000</td>\n",
              "      <td>NaN</td>\n",
              "      <td>NaN</td>\n",
              "      <td>NaN</td>\n",
              "    </tr>\n",
              "    <tr>\n",
              "      <th>254</th>\n",
              "      <td>Costers del Siurana</td>\n",
              "      <td>Dolc de L'Obac</td>\n",
              "      <td>2006</td>\n",
              "      <td>4.6</td>\n",
              "      <td>94</td>\n",
              "      <td>Espana</td>\n",
              "      <td>Priorato</td>\n",
              "      <td>117.23942</td>\n",
              "      <td>NaN</td>\n",
              "      <td>NaN</td>\n",
              "      <td>NaN</td>\n",
              "    </tr>\n",
              "    <tr>\n",
              "      <th>288</th>\n",
              "      <td>Francisco Garcia Perez</td>\n",
              "      <td>Adega do Moucho Treixadura</td>\n",
              "      <td>2017</td>\n",
              "      <td>4.6</td>\n",
              "      <td>53</td>\n",
              "      <td>Espana</td>\n",
              "      <td>Ribeiro</td>\n",
              "      <td>34.50000</td>\n",
              "      <td>NaN</td>\n",
              "      <td>NaN</td>\n",
              "      <td>NaN</td>\n",
              "    </tr>\n",
              "    <tr>\n",
              "      <th>...</th>\n",
              "      <td>...</td>\n",
              "      <td>...</td>\n",
              "      <td>...</td>\n",
              "      <td>...</td>\n",
              "      <td>...</td>\n",
              "      <td>...</td>\n",
              "      <td>...</td>\n",
              "      <td>...</td>\n",
              "      <td>...</td>\n",
              "      <td>...</td>\n",
              "      <td>...</td>\n",
              "    </tr>\n",
              "    <tr>\n",
              "      <th>1934</th>\n",
              "      <td>Gramona</td>\n",
              "      <td>Gessami</td>\n",
              "      <td>2020</td>\n",
              "      <td>4.2</td>\n",
              "      <td>692</td>\n",
              "      <td>Espana</td>\n",
              "      <td>Penedes</td>\n",
              "      <td>11.20000</td>\n",
              "      <td>NaN</td>\n",
              "      <td>NaN</td>\n",
              "      <td>NaN</td>\n",
              "    </tr>\n",
              "    <tr>\n",
              "      <th>1982</th>\n",
              "      <td>Emilio Moro</td>\n",
              "      <td>La Revelia Godello</td>\n",
              "      <td>2018</td>\n",
              "      <td>4.2</td>\n",
              "      <td>484</td>\n",
              "      <td>Espana</td>\n",
              "      <td>Bierzo</td>\n",
              "      <td>21.95000</td>\n",
              "      <td>NaN</td>\n",
              "      <td>NaN</td>\n",
              "      <td>NaN</td>\n",
              "    </tr>\n",
              "    <tr>\n",
              "      <th>1995</th>\n",
              "      <td>Culebron</td>\n",
              "      <td>Fondillon Gran Reserva</td>\n",
              "      <td>1964</td>\n",
              "      <td>4.2</td>\n",
              "      <td>432</td>\n",
              "      <td>Espana</td>\n",
              "      <td>Alicante</td>\n",
              "      <td>49.95000</td>\n",
              "      <td>NaN</td>\n",
              "      <td>NaN</td>\n",
              "      <td>NaN</td>\n",
              "    </tr>\n",
              "    <tr>\n",
              "      <th>2011</th>\n",
              "      <td>Ramon do Casar</td>\n",
              "      <td>Treixadura</td>\n",
              "      <td>2020</td>\n",
              "      <td>4.2</td>\n",
              "      <td>407</td>\n",
              "      <td>Espana</td>\n",
              "      <td>Ribeiro</td>\n",
              "      <td>11.95000</td>\n",
              "      <td>NaN</td>\n",
              "      <td>NaN</td>\n",
              "      <td>NaN</td>\n",
              "    </tr>\n",
              "    <tr>\n",
              "      <th>2014</th>\n",
              "      <td>Binigrau</td>\n",
              "      <td>Nounat</td>\n",
              "      <td>2020</td>\n",
              "      <td>4.2</td>\n",
              "      <td>404</td>\n",
              "      <td>Espana</td>\n",
              "      <td>Mallorca</td>\n",
              "      <td>19.90000</td>\n",
              "      <td>NaN</td>\n",
              "      <td>NaN</td>\n",
              "      <td>NaN</td>\n",
              "    </tr>\n",
              "  </tbody>\n",
              "</table>\n",
              "<p>106 rows × 11 columns</p>\n",
              "</div>\n",
              "      <button class=\"colab-df-convert\" onclick=\"convertToInteractive('df-f5d9a6f4-e35c-484e-99fe-2f5386337295')\"\n",
              "              title=\"Convert this dataframe to an interactive table.\"\n",
              "              style=\"display:none;\">\n",
              "        \n",
              "  <svg xmlns=\"http://www.w3.org/2000/svg\" height=\"24px\"viewBox=\"0 0 24 24\"\n",
              "       width=\"24px\">\n",
              "    <path d=\"M0 0h24v24H0V0z\" fill=\"none\"/>\n",
              "    <path d=\"M18.56 5.44l.94 2.06.94-2.06 2.06-.94-2.06-.94-.94-2.06-.94 2.06-2.06.94zm-11 1L8.5 8.5l.94-2.06 2.06-.94-2.06-.94L8.5 2.5l-.94 2.06-2.06.94zm10 10l.94 2.06.94-2.06 2.06-.94-2.06-.94-.94-2.06-.94 2.06-2.06.94z\"/><path d=\"M17.41 7.96l-1.37-1.37c-.4-.4-.92-.59-1.43-.59-.52 0-1.04.2-1.43.59L10.3 9.45l-7.72 7.72c-.78.78-.78 2.05 0 2.83L4 21.41c.39.39.9.59 1.41.59.51 0 1.02-.2 1.41-.59l7.78-7.78 2.81-2.81c.8-.78.8-2.07 0-2.86zM5.41 20L4 18.59l7.72-7.72 1.47 1.35L5.41 20z\"/>\n",
              "  </svg>\n",
              "      </button>\n",
              "      \n",
              "  <style>\n",
              "    .colab-df-container {\n",
              "      display:flex;\n",
              "      flex-wrap:wrap;\n",
              "      gap: 12px;\n",
              "    }\n",
              "\n",
              "    .colab-df-convert {\n",
              "      background-color: #E8F0FE;\n",
              "      border: none;\n",
              "      border-radius: 50%;\n",
              "      cursor: pointer;\n",
              "      display: none;\n",
              "      fill: #1967D2;\n",
              "      height: 32px;\n",
              "      padding: 0 0 0 0;\n",
              "      width: 32px;\n",
              "    }\n",
              "\n",
              "    .colab-df-convert:hover {\n",
              "      background-color: #E2EBFA;\n",
              "      box-shadow: 0px 1px 2px rgba(60, 64, 67, 0.3), 0px 1px 3px 1px rgba(60, 64, 67, 0.15);\n",
              "      fill: #174EA6;\n",
              "    }\n",
              "\n",
              "    [theme=dark] .colab-df-convert {\n",
              "      background-color: #3B4455;\n",
              "      fill: #D2E3FC;\n",
              "    }\n",
              "\n",
              "    [theme=dark] .colab-df-convert:hover {\n",
              "      background-color: #434B5C;\n",
              "      box-shadow: 0px 1px 3px 1px rgba(0, 0, 0, 0.15);\n",
              "      filter: drop-shadow(0px 1px 2px rgba(0, 0, 0, 0.3));\n",
              "      fill: #FFFFFF;\n",
              "    }\n",
              "  </style>\n",
              "\n",
              "      <script>\n",
              "        const buttonEl =\n",
              "          document.querySelector('#df-f5d9a6f4-e35c-484e-99fe-2f5386337295 button.colab-df-convert');\n",
              "        buttonEl.style.display =\n",
              "          google.colab.kernel.accessAllowed ? 'block' : 'none';\n",
              "\n",
              "        async function convertToInteractive(key) {\n",
              "          const element = document.querySelector('#df-f5d9a6f4-e35c-484e-99fe-2f5386337295');\n",
              "          const dataTable =\n",
              "            await google.colab.kernel.invokeFunction('convertToInteractive',\n",
              "                                                     [key], {});\n",
              "          if (!dataTable) return;\n",
              "\n",
              "          const docLinkHtml = 'Like what you see? Visit the ' +\n",
              "            '<a target=\"_blank\" href=https://colab.research.google.com/notebooks/data_table.ipynb>data table notebook</a>'\n",
              "            + ' to learn more about interactive tables.';\n",
              "          element.innerHTML = '';\n",
              "          dataTable['output_type'] = 'display_data';\n",
              "          await google.colab.output.renderOutput(dataTable, element);\n",
              "          const docLink = document.createElement('div');\n",
              "          docLink.innerHTML = docLinkHtml;\n",
              "          element.appendChild(docLink);\n",
              "        }\n",
              "      </script>\n",
              "    </div>\n",
              "  </div>\n",
              "  "
            ]
          },
          "metadata": {},
          "execution_count": 12
        }
      ]
    },
    {
      "cell_type": "code",
      "source": [
        "#View missing acidity\n",
        "eda_df[eda_df['acidity'].isna()]"
      ],
      "metadata": {
        "colab": {
          "base_uri": "https://localhost:8080/",
          "height": 800
        },
        "id": "_WiSiGl-P1sb",
        "outputId": "13a12f3e-1cdb-4687-b739-a940346c296b"
      },
      "execution_count": 13,
      "outputs": [
        {
          "output_type": "execute_result",
          "data": {
            "text/plain": [
              "                      winery                                wine  year  \\\n",
              "120            Finca Moncloa                    Tintilla de Rota  2016   \n",
              "147          Rafael Palacios           Sorte O Soro Val do Bibei  2019   \n",
              "156     Gutierrez de la Vega  Recondita Armonia Monastrell Dulce  1987   \n",
              "254      Costers del Siurana                      Dolc de L'Obac  2006   \n",
              "288   Francisco Garcia Perez          Adega do Moucho Treixadura  2017   \n",
              "...                      ...                                 ...   ...   \n",
              "2021             Mustiguillo                     Finca Terrerazo  2017   \n",
              "2022             Matarromera                        Gran Reserva  2011   \n",
              "2023                Sei Solo                            Preludio  2016   \n",
              "2024      Vinedos de Paganos                          El Puntido  2005   \n",
              "6100       Remirez de Ganuza                        Rioja Blanco  2017   \n",
              "\n",
              "      rating  num_reviews country            region      price  \\\n",
              "120      4.7           92  Espana             Cadiz   43.13000   \n",
              "147      4.7           37  Espana        Valdeorras  194.86000   \n",
              "156      4.7           27  Espana          Alicante   81.90000   \n",
              "254      4.6           94  Espana          Priorato  117.23942   \n",
              "288      4.6           53  Espana           Ribeiro   34.50000   \n",
              "...      ...          ...     ...               ...        ...   \n",
              "2021     4.2          390  Espana      El Terrerazo   24.45000   \n",
              "2022     4.2          389  Espana  Ribera del Duero   64.50000   \n",
              "2023     4.2          388  Espana  Ribera del Duero   31.63000   \n",
              "2024     4.2          384  Espana             Rioja   73.00000   \n",
              "6100     4.2          421  Espana             Rioja   29.15000   \n",
              "\n",
              "                      type  body  acidity  \n",
              "120                    NaN   NaN      NaN  \n",
              "147                    NaN   NaN      NaN  \n",
              "156                    NaN   NaN      NaN  \n",
              "254                    NaN   NaN      NaN  \n",
              "288                    NaN   NaN      NaN  \n",
              "...                    ...   ...      ...  \n",
              "2021                   Red   NaN      NaN  \n",
              "2022  Ribera Del Duero Red   NaN      NaN  \n",
              "2023  Ribera Del Duero Red   NaN      NaN  \n",
              "2024             Rioja Red   NaN      NaN  \n",
              "6100           Rioja White   NaN      NaN  \n",
              "\n",
              "[271 rows x 11 columns]"
            ],
            "text/html": [
              "\n",
              "  <div id=\"df-96de8581-4478-4a4b-b43d-19ba3b8dbce2\">\n",
              "    <div class=\"colab-df-container\">\n",
              "      <div>\n",
              "<style scoped>\n",
              "    .dataframe tbody tr th:only-of-type {\n",
              "        vertical-align: middle;\n",
              "    }\n",
              "\n",
              "    .dataframe tbody tr th {\n",
              "        vertical-align: top;\n",
              "    }\n",
              "\n",
              "    .dataframe thead th {\n",
              "        text-align: right;\n",
              "    }\n",
              "</style>\n",
              "<table border=\"1\" class=\"dataframe\">\n",
              "  <thead>\n",
              "    <tr style=\"text-align: right;\">\n",
              "      <th></th>\n",
              "      <th>winery</th>\n",
              "      <th>wine</th>\n",
              "      <th>year</th>\n",
              "      <th>rating</th>\n",
              "      <th>num_reviews</th>\n",
              "      <th>country</th>\n",
              "      <th>region</th>\n",
              "      <th>price</th>\n",
              "      <th>type</th>\n",
              "      <th>body</th>\n",
              "      <th>acidity</th>\n",
              "    </tr>\n",
              "  </thead>\n",
              "  <tbody>\n",
              "    <tr>\n",
              "      <th>120</th>\n",
              "      <td>Finca Moncloa</td>\n",
              "      <td>Tintilla de Rota</td>\n",
              "      <td>2016</td>\n",
              "      <td>4.7</td>\n",
              "      <td>92</td>\n",
              "      <td>Espana</td>\n",
              "      <td>Cadiz</td>\n",
              "      <td>43.13000</td>\n",
              "      <td>NaN</td>\n",
              "      <td>NaN</td>\n",
              "      <td>NaN</td>\n",
              "    </tr>\n",
              "    <tr>\n",
              "      <th>147</th>\n",
              "      <td>Rafael Palacios</td>\n",
              "      <td>Sorte O Soro Val do Bibei</td>\n",
              "      <td>2019</td>\n",
              "      <td>4.7</td>\n",
              "      <td>37</td>\n",
              "      <td>Espana</td>\n",
              "      <td>Valdeorras</td>\n",
              "      <td>194.86000</td>\n",
              "      <td>NaN</td>\n",
              "      <td>NaN</td>\n",
              "      <td>NaN</td>\n",
              "    </tr>\n",
              "    <tr>\n",
              "      <th>156</th>\n",
              "      <td>Gutierrez de la Vega</td>\n",
              "      <td>Recondita Armonia Monastrell Dulce</td>\n",
              "      <td>1987</td>\n",
              "      <td>4.7</td>\n",
              "      <td>27</td>\n",
              "      <td>Espana</td>\n",
              "      <td>Alicante</td>\n",
              "      <td>81.90000</td>\n",
              "      <td>NaN</td>\n",
              "      <td>NaN</td>\n",
              "      <td>NaN</td>\n",
              "    </tr>\n",
              "    <tr>\n",
              "      <th>254</th>\n",
              "      <td>Costers del Siurana</td>\n",
              "      <td>Dolc de L'Obac</td>\n",
              "      <td>2006</td>\n",
              "      <td>4.6</td>\n",
              "      <td>94</td>\n",
              "      <td>Espana</td>\n",
              "      <td>Priorato</td>\n",
              "      <td>117.23942</td>\n",
              "      <td>NaN</td>\n",
              "      <td>NaN</td>\n",
              "      <td>NaN</td>\n",
              "    </tr>\n",
              "    <tr>\n",
              "      <th>288</th>\n",
              "      <td>Francisco Garcia Perez</td>\n",
              "      <td>Adega do Moucho Treixadura</td>\n",
              "      <td>2017</td>\n",
              "      <td>4.6</td>\n",
              "      <td>53</td>\n",
              "      <td>Espana</td>\n",
              "      <td>Ribeiro</td>\n",
              "      <td>34.50000</td>\n",
              "      <td>NaN</td>\n",
              "      <td>NaN</td>\n",
              "      <td>NaN</td>\n",
              "    </tr>\n",
              "    <tr>\n",
              "      <th>...</th>\n",
              "      <td>...</td>\n",
              "      <td>...</td>\n",
              "      <td>...</td>\n",
              "      <td>...</td>\n",
              "      <td>...</td>\n",
              "      <td>...</td>\n",
              "      <td>...</td>\n",
              "      <td>...</td>\n",
              "      <td>...</td>\n",
              "      <td>...</td>\n",
              "      <td>...</td>\n",
              "    </tr>\n",
              "    <tr>\n",
              "      <th>2021</th>\n",
              "      <td>Mustiguillo</td>\n",
              "      <td>Finca Terrerazo</td>\n",
              "      <td>2017</td>\n",
              "      <td>4.2</td>\n",
              "      <td>390</td>\n",
              "      <td>Espana</td>\n",
              "      <td>El Terrerazo</td>\n",
              "      <td>24.45000</td>\n",
              "      <td>Red</td>\n",
              "      <td>NaN</td>\n",
              "      <td>NaN</td>\n",
              "    </tr>\n",
              "    <tr>\n",
              "      <th>2022</th>\n",
              "      <td>Matarromera</td>\n",
              "      <td>Gran Reserva</td>\n",
              "      <td>2011</td>\n",
              "      <td>4.2</td>\n",
              "      <td>389</td>\n",
              "      <td>Espana</td>\n",
              "      <td>Ribera del Duero</td>\n",
              "      <td>64.50000</td>\n",
              "      <td>Ribera Del Duero Red</td>\n",
              "      <td>NaN</td>\n",
              "      <td>NaN</td>\n",
              "    </tr>\n",
              "    <tr>\n",
              "      <th>2023</th>\n",
              "      <td>Sei Solo</td>\n",
              "      <td>Preludio</td>\n",
              "      <td>2016</td>\n",
              "      <td>4.2</td>\n",
              "      <td>388</td>\n",
              "      <td>Espana</td>\n",
              "      <td>Ribera del Duero</td>\n",
              "      <td>31.63000</td>\n",
              "      <td>Ribera Del Duero Red</td>\n",
              "      <td>NaN</td>\n",
              "      <td>NaN</td>\n",
              "    </tr>\n",
              "    <tr>\n",
              "      <th>2024</th>\n",
              "      <td>Vinedos de Paganos</td>\n",
              "      <td>El Puntido</td>\n",
              "      <td>2005</td>\n",
              "      <td>4.2</td>\n",
              "      <td>384</td>\n",
              "      <td>Espana</td>\n",
              "      <td>Rioja</td>\n",
              "      <td>73.00000</td>\n",
              "      <td>Rioja Red</td>\n",
              "      <td>NaN</td>\n",
              "      <td>NaN</td>\n",
              "    </tr>\n",
              "    <tr>\n",
              "      <th>6100</th>\n",
              "      <td>Remirez de Ganuza</td>\n",
              "      <td>Rioja Blanco</td>\n",
              "      <td>2017</td>\n",
              "      <td>4.2</td>\n",
              "      <td>421</td>\n",
              "      <td>Espana</td>\n",
              "      <td>Rioja</td>\n",
              "      <td>29.15000</td>\n",
              "      <td>Rioja White</td>\n",
              "      <td>NaN</td>\n",
              "      <td>NaN</td>\n",
              "    </tr>\n",
              "  </tbody>\n",
              "</table>\n",
              "<p>271 rows × 11 columns</p>\n",
              "</div>\n",
              "      <button class=\"colab-df-convert\" onclick=\"convertToInteractive('df-96de8581-4478-4a4b-b43d-19ba3b8dbce2')\"\n",
              "              title=\"Convert this dataframe to an interactive table.\"\n",
              "              style=\"display:none;\">\n",
              "        \n",
              "  <svg xmlns=\"http://www.w3.org/2000/svg\" height=\"24px\"viewBox=\"0 0 24 24\"\n",
              "       width=\"24px\">\n",
              "    <path d=\"M0 0h24v24H0V0z\" fill=\"none\"/>\n",
              "    <path d=\"M18.56 5.44l.94 2.06.94-2.06 2.06-.94-2.06-.94-.94-2.06-.94 2.06-2.06.94zm-11 1L8.5 8.5l.94-2.06 2.06-.94-2.06-.94L8.5 2.5l-.94 2.06-2.06.94zm10 10l.94 2.06.94-2.06 2.06-.94-2.06-.94-.94-2.06-.94 2.06-2.06.94z\"/><path d=\"M17.41 7.96l-1.37-1.37c-.4-.4-.92-.59-1.43-.59-.52 0-1.04.2-1.43.59L10.3 9.45l-7.72 7.72c-.78.78-.78 2.05 0 2.83L4 21.41c.39.39.9.59 1.41.59.51 0 1.02-.2 1.41-.59l7.78-7.78 2.81-2.81c.8-.78.8-2.07 0-2.86zM5.41 20L4 18.59l7.72-7.72 1.47 1.35L5.41 20z\"/>\n",
              "  </svg>\n",
              "      </button>\n",
              "      \n",
              "  <style>\n",
              "    .colab-df-container {\n",
              "      display:flex;\n",
              "      flex-wrap:wrap;\n",
              "      gap: 12px;\n",
              "    }\n",
              "\n",
              "    .colab-df-convert {\n",
              "      background-color: #E8F0FE;\n",
              "      border: none;\n",
              "      border-radius: 50%;\n",
              "      cursor: pointer;\n",
              "      display: none;\n",
              "      fill: #1967D2;\n",
              "      height: 32px;\n",
              "      padding: 0 0 0 0;\n",
              "      width: 32px;\n",
              "    }\n",
              "\n",
              "    .colab-df-convert:hover {\n",
              "      background-color: #E2EBFA;\n",
              "      box-shadow: 0px 1px 2px rgba(60, 64, 67, 0.3), 0px 1px 3px 1px rgba(60, 64, 67, 0.15);\n",
              "      fill: #174EA6;\n",
              "    }\n",
              "\n",
              "    [theme=dark] .colab-df-convert {\n",
              "      background-color: #3B4455;\n",
              "      fill: #D2E3FC;\n",
              "    }\n",
              "\n",
              "    [theme=dark] .colab-df-convert:hover {\n",
              "      background-color: #434B5C;\n",
              "      box-shadow: 0px 1px 3px 1px rgba(0, 0, 0, 0.15);\n",
              "      filter: drop-shadow(0px 1px 2px rgba(0, 0, 0, 0.3));\n",
              "      fill: #FFFFFF;\n",
              "    }\n",
              "  </style>\n",
              "\n",
              "      <script>\n",
              "        const buttonEl =\n",
              "          document.querySelector('#df-96de8581-4478-4a4b-b43d-19ba3b8dbce2 button.colab-df-convert');\n",
              "        buttonEl.style.display =\n",
              "          google.colab.kernel.accessAllowed ? 'block' : 'none';\n",
              "\n",
              "        async function convertToInteractive(key) {\n",
              "          const element = document.querySelector('#df-96de8581-4478-4a4b-b43d-19ba3b8dbce2');\n",
              "          const dataTable =\n",
              "            await google.colab.kernel.invokeFunction('convertToInteractive',\n",
              "                                                     [key], {});\n",
              "          if (!dataTable) return;\n",
              "\n",
              "          const docLinkHtml = 'Like what you see? Visit the ' +\n",
              "            '<a target=\"_blank\" href=https://colab.research.google.com/notebooks/data_table.ipynb>data table notebook</a>'\n",
              "            + ' to learn more about interactive tables.';\n",
              "          element.innerHTML = '';\n",
              "          dataTable['output_type'] = 'display_data';\n",
              "          await google.colab.output.renderOutput(dataTable, element);\n",
              "          const docLink = document.createElement('div');\n",
              "          docLink.innerHTML = docLinkHtml;\n",
              "          element.appendChild(docLink);\n",
              "        }\n",
              "      </script>\n",
              "    </div>\n",
              "  </div>\n",
              "  "
            ]
          },
          "metadata": {},
          "execution_count": 13
        }
      ]
    },
    {
      "cell_type": "markdown",
      "source": [
        "For the body and acidity I am going to do the average for thos. For the missing type I will do the most frequent to fill in the missing. For the year I am going to drop the rows for that since I will still have 99.7% of the data for that column.\n",
        "\n",
        "This will be dealt with later in our machine learning process."
      ],
      "metadata": {
        "id": "8H1zoruQOq-f"
      }
    },
    {
      "cell_type": "code",
      "source": [
        "eda_df.dtypes"
      ],
      "metadata": {
        "colab": {
          "base_uri": "https://localhost:8080/"
        },
        "id": "UlCjiiciSx_c",
        "outputId": "21058fd8-5849-4479-8939-ec9e78261915"
      },
      "execution_count": 14,
      "outputs": [
        {
          "output_type": "execute_result",
          "data": {
            "text/plain": [
              "winery          object\n",
              "wine            object\n",
              "year            object\n",
              "rating         float64\n",
              "num_reviews      int64\n",
              "country         object\n",
              "region          object\n",
              "price          float64\n",
              "type            object\n",
              "body           float64\n",
              "acidity        float64\n",
              "dtype: object"
            ]
          },
          "metadata": {},
          "execution_count": 14
        }
      ]
    },
    {
      "cell_type": "code",
      "source": [
        "dtypes = eda_df.dtypes\n",
        "str_cols = dtypes[dtypes == 'object'].index\n",
        "str_cols"
      ],
      "metadata": {
        "colab": {
          "base_uri": "https://localhost:8080/"
        },
        "id": "JkJUILWCYBJs",
        "outputId": "826066a2-95eb-4b3f-eb02-668c659b7cfa"
      },
      "execution_count": 15,
      "outputs": [
        {
          "output_type": "execute_result",
          "data": {
            "text/plain": [
              "Index(['winery', 'wine', 'year', 'country', 'region', 'type'], dtype='object')"
            ]
          },
          "metadata": {},
          "execution_count": 15
        }
      ]
    },
    {
      "cell_type": "code",
      "source": [
        "for col in str_cols:\n",
        "  print(f'- Columns={col}')\n",
        "  print(eda_df[col].value_counts(dropna = False))\n",
        "  print('\\n\\n')"
      ],
      "metadata": {
        "colab": {
          "base_uri": "https://localhost:8080/"
        },
        "id": "N41ER5Y1YekG",
        "outputId": "d07a696e-921b-4eb9-8a01-6f58088966be"
      },
      "execution_count": 16,
      "outputs": [
        {
          "output_type": "stream",
          "name": "stdout",
          "text": [
            "- Columns=winery\n",
            "Vega Sicilia                            97\n",
            "Alvaro Palacios                         48\n",
            "Artadi                                  43\n",
            "La Rioja Alta                           36\n",
            "Marques de Murrieta                     33\n",
            "                                        ..\n",
            "Valdelosfrailes                          1\n",
            "Briego                                   1\n",
            "Guillem Carol - Cellers Carol Valles     1\n",
            "Particular                               1\n",
            "Binigrau                                 1\n",
            "Name: winery, Length: 480, dtype: int64\n",
            "\n",
            "\n",
            "\n",
            "- Columns=wine\n",
            "Tinto                                                 56\n",
            "Unico                                                 41\n",
            "Valbuena 5o                                           32\n",
            "Reserva                                               31\n",
            "Priorat                                               26\n",
            "                                                      ..\n",
            "San Valentin Parellada                                 1\n",
            "Silvanus Edicion Limitada Ribera del Duero             1\n",
            "El Jardin de las Iguales Vinedo Historico Garnacha     1\n",
            "Garnacha Vinas Centenarias                             1\n",
            "Capricho Crianza                                       1\n",
            "Name: wine, Length: 847, dtype: int64\n",
            "\n",
            "\n",
            "\n",
            "- Columns=year\n",
            "2016    243\n",
            "2017    240\n",
            "2015    206\n",
            "2018    196\n",
            "2014    158\n",
            "       ... \n",
            "1953      1\n",
            "1972      1\n",
            "1974      1\n",
            "1931      1\n",
            "1925      1\n",
            "Name: year, Length: 72, dtype: int64\n",
            "\n",
            "\n",
            "\n",
            "- Columns=country\n",
            "Espana    2048\n",
            "Name: country, dtype: int64\n",
            "\n",
            "\n",
            "\n",
            "- Columns=region\n",
            "Ribera del Duero                   541\n",
            "Rioja                              479\n",
            "Priorato                           250\n",
            "Toro                                82\n",
            "Castilla y Leon                     51\n",
            "                                  ... \n",
            "Ribera del Gallego-Cinco Villas      1\n",
            "Monterrei                            1\n",
            "Jerez Cream                          1\n",
            "Condado de Huelva                    1\n",
            "Abona                                1\n",
            "Name: region, Length: 76, dtype: int64\n",
            "\n",
            "\n",
            "\n",
            "- Columns=type\n",
            "Ribera Del Duero Red    535\n",
            "Rioja Red               451\n",
            "Priorat Red             238\n",
            "Red                     210\n",
            "NaN                     106\n",
            "Toro Red                 78\n",
            "Tempranillo              73\n",
            "Sherry                   56\n",
            "Rioja White              37\n",
            "Pedro Ximenez            35\n",
            "Grenache                 35\n",
            "Albarino                 34\n",
            "Cava                     33\n",
            "Verdejo                  27\n",
            "Monastrell               18\n",
            "Mencia                   17\n",
            "Montsant Red             17\n",
            "Syrah                    15\n",
            "Chardonnay               13\n",
            "Cabernet Sauvignon       11\n",
            "Sparkling                 5\n",
            "Sauvignon Blanc           4\n",
            "Name: type, dtype: int64\n",
            "\n",
            "\n",
            "\n"
          ]
        }
      ]
    },
    {
      "cell_type": "code",
      "source": [
        "dtypes = eda_df.dtypes\n",
        "str_cols = dtypes[dtypes == 'float'].index\n",
        "str_cols"
      ],
      "metadata": {
        "colab": {
          "base_uri": "https://localhost:8080/"
        },
        "outputId": "7c345c99-5499-4d0b-b4b6-c678654cb2e2",
        "id": "9Q4GVnMvS5kP"
      },
      "execution_count": 17,
      "outputs": [
        {
          "output_type": "execute_result",
          "data": {
            "text/plain": [
              "Index(['rating', 'price', 'body', 'acidity'], dtype='object')"
            ]
          },
          "metadata": {},
          "execution_count": 17
        }
      ]
    },
    {
      "cell_type": "code",
      "source": [
        "for float in str_cols:\n",
        "  print(f'- Columns={float}')\n",
        "  print(eda_df[float].value_counts(dropna = False))\n",
        "  print('\\n\\n')"
      ],
      "metadata": {
        "colab": {
          "base_uri": "https://localhost:8080/"
        },
        "outputId": "99146d7d-173f-4704-ac8b-b910d90fcfa4",
        "id": "T2sZ37PAS-gv"
      },
      "execution_count": 18,
      "outputs": [
        {
          "output_type": "stream",
          "name": "stdout",
          "text": [
            "- Columns=rating\n",
            "4.3    706\n",
            "4.4    484\n",
            "4.5    281\n",
            "4.2    228\n",
            "4.6    191\n",
            "4.7    112\n",
            "4.8     44\n",
            "4.9      2\n",
            "Name: rating, dtype: int64\n",
            "\n",
            "\n",
            "\n",
            "- Columns=price\n",
            "75.00     16\n",
            "95.00     12\n",
            "34.90     12\n",
            "59.90     12\n",
            "26.90     11\n",
            "          ..\n",
            "75.92      1\n",
            "47.52      1\n",
            "94.20      1\n",
            "185.15     1\n",
            "995.00     1\n",
            "Name: price, Length: 1292, dtype: int64\n",
            "\n",
            "\n",
            "\n",
            "- Columns=body\n",
            "4.0    1003\n",
            "5.0     634\n",
            "NaN     271\n",
            "3.0     106\n",
            "2.0      34\n",
            "Name: body, dtype: int64\n",
            "\n",
            "\n",
            "\n",
            "- Columns=acidity\n",
            "3.0    1672\n",
            "NaN     271\n",
            "2.0      70\n",
            "1.0      35\n",
            "Name: acidity, dtype: int64\n",
            "\n",
            "\n",
            "\n"
          ]
        }
      ]
    },
    {
      "cell_type": "markdown",
      "source": [
        "#Visualizations of data"
      ],
      "metadata": {
        "id": "2rNnEDSGT5GB"
      }
    },
    {
      "cell_type": "code",
      "source": [
        "# target visualization \n",
        "eda_df['price'].hist()"
      ],
      "metadata": {
        "colab": {
          "base_uri": "https://localhost:8080/",
          "height": 283
        },
        "id": "MkFF-hSKTE4O",
        "outputId": "2d9954e9-579d-4998-87ab-329a5d894055"
      },
      "execution_count": 19,
      "outputs": [
        {
          "output_type": "execute_result",
          "data": {
            "text/plain": [
              "<AxesSubplot:>"
            ]
          },
          "metadata": {},
          "execution_count": 19
        },
        {
          "output_type": "display_data",
          "data": {
            "text/plain": [
              "<Figure size 432x288 with 1 Axes>"
            ],
            "image/png": "[encoded data removed]"
          },
          "metadata": {
            "needs_background": "light"
          }
        }
      ]
    },
    {
      "cell_type": "markdown",
      "source": [
        "There are few outliers here but the price does seem reasonable."
      ],
      "metadata": {
        "id": "i-JHxeQwV__C"
      }
    },
    {
      "cell_type": "code",
      "source": [
        "eda_df['country'].value_counts().plot(kind='bar');"
      ],
      "metadata": {
        "colab": {
          "base_uri": "https://localhost:8080/",
          "height": 292
        },
        "id": "BwW5JgarUC-I",
        "outputId": "6b5a5b85-3d21-4fcc-902d-78eb1729f858"
      },
      "execution_count": 20,
      "outputs": [
        {
          "output_type": "display_data",
          "data": {
            "text/plain": [
              "<Figure size 432x288 with 1 Axes>"
            ],
            "image/png": "[encoded data removed]"
          },
          "metadata": {
            "needs_background": "light"
          }
        }
      ]
    },
    {
      "cell_type": "markdown",
      "source": [
        "No outliers but this seems to be data that isn't needed since all wines are from here."
      ],
      "metadata": {
        "id": "wGT2NWYWWfXw"
      }
    },
    {
      "cell_type": "code",
      "source": [
        "eda_df['num_reviews'].hist()"
      ],
      "metadata": {
        "colab": {
          "base_uri": "https://localhost:8080/",
          "height": 283
        },
        "id": "XPurdIFgWPJd",
        "outputId": "0c034dfc-abfe-4ec4-8db8-50425bf4ceda"
      },
      "execution_count": 21,
      "outputs": [
        {
          "output_type": "execute_result",
          "data": {
            "text/plain": [
              "<AxesSubplot:>"
            ]
          },
          "metadata": {},
          "execution_count": 21
        },
        {
          "output_type": "display_data",
          "data": {
            "text/plain": [
              "<Figure size 432x288 with 1 Axes>"
            ],
            "image/png": "[encoded data removed]"
          },
          "metadata": {
            "needs_background": "light"
          }
        }
      ]
    },
    {
      "cell_type": "markdown",
      "source": [
        "There don't appear to be outliers."
      ],
      "metadata": {
        "id": "LoM1k8vqWcKm"
      }
    },
    {
      "cell_type": "code",
      "source": [
        "eda_df['rating'].value_counts().plot(kind='bar');"
      ],
      "metadata": {
        "colab": {
          "base_uri": "https://localhost:8080/",
          "height": 271
        },
        "id": "xVDsEqGTWWQ3",
        "outputId": "f17ed061-b2a3-4036-cb40-3d9970d37756"
      },
      "execution_count": 22,
      "outputs": [
        {
          "output_type": "display_data",
          "data": {
            "text/plain": [
              "<Figure size 432x288 with 1 Axes>"
            ],
            "image/png": "[encoded data removed]"
          },
          "metadata": {
            "needs_background": "light"
          }
        }
      ]
    },
    {
      "cell_type": "markdown",
      "source": [
        "There is one outlier but it seems reasonable."
      ],
      "metadata": {
        "id": "lOUcC02wWtFD"
      }
    },
    {
      "cell_type": "code",
      "source": [
        "eda_df['winery'].value_counts().plot(kind='bar')\n",
        "plt.xticks(rotation=90)\n",
        "plt.figure(figsize=(25,15));"
      ],
      "metadata": {
        "colab": {
          "base_uri": "https://localhost:8080/",
          "height": 513
        },
        "id": "K3UdZf5jWr9c",
        "outputId": "24892e5c-a7ed-420a-f48f-df1cc5ec6f10"
      },
      "execution_count": 23,
      "outputs": [
        {
          "output_type": "display_data",
          "data": {
            "text/plain": [
              "<Figure size 432x288 with 1 Axes>"
            ],
            "image/png": "[encoded data removed]"
          },
          "metadata": {
            "needs_background": "light"
          }
        },
        {
          "output_type": "display_data",
          "data": {
            "text/plain": [
              "<Figure size 1800x1080 with 0 Axes>"
            ]
          },
          "metadata": {}
        }
      ]
    },
    {
      "cell_type": "code",
      "source": [
        "eda_df['acidity'].value_counts().plot(kind='bar');"
      ],
      "metadata": {
        "colab": {
          "base_uri": "https://localhost:8080/",
          "height": 271
        },
        "id": "O4UfnyewW3qj",
        "outputId": "55781206-f0e7-4c92-da39-870d995cd6bc"
      },
      "execution_count": 24,
      "outputs": [
        {
          "output_type": "display_data",
          "data": {
            "text/plain": [
              "<Figure size 432x288 with 1 Axes>"
            ],
            "image/png": "[encoded data removed]"
          },
          "metadata": {
            "needs_background": "light"
          }
        }
      ]
    },
    {
      "cell_type": "code",
      "source": [
        "eda_df['body'].value_counts().plot(kind='bar');"
      ],
      "metadata": {
        "colab": {
          "base_uri": "https://localhost:8080/",
          "height": 271
        },
        "id": "XbHEYniaY02l",
        "outputId": "42d063c7-d371-4e13-9708-d1262f797d93"
      },
      "execution_count": 25,
      "outputs": [
        {
          "output_type": "display_data",
          "data": {
            "text/plain": [
              "<Figure size 432x288 with 1 Axes>"
            ],
            "image/png": "[encoded data removed]"
          },
          "metadata": {
            "needs_background": "light"
          }
        }
      ]
    },
    {
      "cell_type": "code",
      "source": [
        "eda_df['wine'].value_counts().plot(kind='bar')\n",
        "plt.xticks(rotation=90);"
      ],
      "metadata": {
        "colab": {
          "base_uri": "https://localhost:8080/",
          "height": 629
        },
        "id": "Be0xOafUYK3m",
        "outputId": "a358a7dc-be84-4b3e-9aff-557d04324029"
      },
      "execution_count": 26,
      "outputs": [
        {
          "output_type": "display_data",
          "data": {
            "text/plain": [
              "<Figure size 432x288 with 1 Axes>"
            ],
            "image/png": "[encoded data removed]"
          },
          "metadata": {
            "needs_background": "light"
          }
        }
      ]
    },
    {
      "cell_type": "code",
      "source": [
        "eda_df['region'].value_counts().plot(kind='bar');"
      ],
      "metadata": {
        "colab": {
          "base_uri": "https://localhost:8080/",
          "height": 409
        },
        "id": "s4ykkkn9ZAKQ",
        "outputId": "235781bd-3acf-4bba-8eb0-dfb6e2c95a63"
      },
      "execution_count": 27,
      "outputs": [
        {
          "output_type": "display_data",
          "data": {
            "text/plain": [
              "<Figure size 432x288 with 1 Axes>"
            ],
            "image/png": "[encoded data removed]"
          },
          "metadata": {
            "needs_background": "light"
          }
        }
      ]
    },
    {
      "cell_type": "code",
      "source": [
        "eda_df['year'].value_counts().plot(kind='bar')\n",
        "plt.xticks(rotation=90);"
      ],
      "metadata": {
        "colab": {
          "base_uri": "https://localhost:8080/",
          "height": 281
        },
        "id": "LH8mdP88ZlRe",
        "outputId": "42a05b62-37db-4891-8b8c-153e3a6bb37a"
      },
      "execution_count": 28,
      "outputs": [
        {
          "output_type": "display_data",
          "data": {
            "text/plain": [
              "<Figure size 432x288 with 1 Axes>"
            ],
            "image/png": "[encoded data removed]"
          },
          "metadata": {
            "needs_background": "light"
          }
        }
      ]
    },
    {
      "cell_type": "markdown",
      "source": [
        "#Correlation and Visualization"
      ],
      "metadata": {
        "id": "waqCmubW2E0c"
      }
    },
    {
      "cell_type": "code",
      "source": [
        "corr = eda_df.corr()"
      ],
      "metadata": {
        "id": "vlSy9T8A2Js9"
      },
      "execution_count": 29,
      "outputs": []
    },
    {
      "cell_type": "code",
      "source": [
        "#Heat Map \n",
        "sns.heatmap(corr, cmap='Greens', annot= True)"
      ],
      "metadata": {
        "colab": {
          "base_uri": "https://localhost:8080/",
          "height": 288
        },
        "id": "zmBaorga2Udz",
        "outputId": "5a25cabd-2fd8-4d29-db10-f8a855eb8959"
      },
      "execution_count": 30,
      "outputs": [
        {
          "output_type": "execute_result",
          "data": {
            "text/plain": [
              "<AxesSubplot:>"
            ]
          },
          "metadata": {},
          "execution_count": 30
        },
        {
          "output_type": "display_data",
          "data": {
            "text/plain": [
              "<Figure size 432x288 with 2 Axes>"
            ],
            "image/png": "[encoded data removed]"
          },
          "metadata": {
            "needs_background": "light"
          }
        }
      ]
    },
    {
      "cell_type": "markdown",
      "source": [
        "Based on the heat map which shows correlation between features. We can see a correlation between price and rating. We also see a slight correlation between body and rating. "
      ],
      "metadata": {
        "id": "VpjxON6X2nqQ"
      }
    },
    {
      "cell_type": "code",
      "source": [
        "sns.barplot(data = eda_df, x = 'rating', y = 'price')"
      ],
      "metadata": {
        "colab": {
          "base_uri": "https://localhost:8080/",
          "height": 297
        },
        "id": "HYqelHqW2cLv",
        "outputId": "657e36a6-dbdf-4778-b6e2-9748cd3de72d"
      },
      "execution_count": 31,
      "outputs": [
        {
          "output_type": "execute_result",
          "data": {
            "text/plain": [
              "<AxesSubplot:xlabel='rating', ylabel='price'>"
            ]
          },
          "metadata": {},
          "execution_count": 31
        },
        {
          "output_type": "display_data",
          "data": {
            "text/plain": [
              "<Figure size 432x288 with 1 Axes>"
            ],
            "image/png": "[encoded data removed]"
          },
          "metadata": {
            "needs_background": "light"
          }
        }
      ]
    },
    {
      "cell_type": "markdown",
      "source": [
        "From this bar graph above you are able to see that the better the rating the more people are willing to pay for their wine. It is my recommendation to improve the wines raiting to see a higher profit on the investment. To achieve this we shall look at body and how it relates to rating."
      ],
      "metadata": {
        "id": "TLilYv7p3nDq"
      }
    },
    {
      "cell_type": "code",
      "source": [
        "sns.barplot(data = eda_df, x='rating', y='body')"
      ],
      "metadata": {
        "colab": {
          "base_uri": "https://localhost:8080/",
          "height": 297
        },
        "id": "_pmKVRzy3RSy",
        "outputId": "ddf8e52e-8472-4d67-f959-0ab9c86693a1"
      },
      "execution_count": 32,
      "outputs": [
        {
          "output_type": "execute_result",
          "data": {
            "text/plain": [
              "<AxesSubplot:xlabel='rating', ylabel='body'>"
            ]
          },
          "metadata": {},
          "execution_count": 32
        },
        {
          "output_type": "display_data",
          "data": {
            "text/plain": [
              "<Figure size 432x288 with 1 Axes>"
            ],
            "image/png": "[encoded data removed]"
          },
          "metadata": {
            "needs_background": "light"
          }
        }
      ]
    },
    {
      "cell_type": "markdown",
      "source": [
        "The data here shows us that body does have some affect on the rating. We can see that all of the high ratings, which are the higher prices, have a high body. For the wine to make the most money we need a higher rating. Having a good bodied wine will increase the rating into the range we want"
      ],
      "metadata": {
        "id": "BGWnW3A34JIe"
      }
    },
    {
      "cell_type": "code",
      "source": [
        "!pip install dython\n",
        "from dython.nominal import associations"
      ],
      "metadata": {
        "colab": {
          "base_uri": "https://localhost:8080/"
        },
        "id": "IKVXYogJORpZ",
        "outputId": "e2455190-ebce-4c6a-8aa5-aabced1c5356"
      },
      "execution_count": 33,
      "outputs": [
        {
          "output_type": "stream",
          "name": "stdout",
          "text": [
            "Looking in indexes: https://pypi.org/simple, https://us-python.pkg.dev/colab-wheels/public/simple/\n",
            "Requirement already satisfied: dython in /usr/local/lib/python3.7/dist-packages (0.7.2)\n",
            "Requirement already satisfied: matplotlib>=3.4.3 in /usr/local/lib/python3.7/dist-packages (from dython) (3.5.3)\n",
            "Requirement already satisfied: scikit-learn>=0.24.2 in /usr/local/lib/python3.7/dist-packages (from dython) (1.0.2)\n",
            "Requirement already satisfied: pandas>=1.3.2 in /usr/local/lib/python3.7/dist-packages (from dython) (1.3.5)\n",
            "Requirement already satisfied: numpy>=1.19.5 in /usr/local/lib/python3.7/dist-packages (from dython) (1.21.6)\n",
            "Requirement already satisfied: scikit-plot>=0.3.7 in /usr/local/lib/python3.7/dist-packages (from dython) (0.3.7)\n",
            "Requirement already satisfied: scipy>=1.7.1 in /usr/local/lib/python3.7/dist-packages (from dython) (1.7.3)\n",
            "Requirement already satisfied: seaborn>=0.11.0 in /usr/local/lib/python3.7/dist-packages (from dython) (0.11.2)\n",
            "Requirement already satisfied: psutil>=5.9.1 in /usr/local/lib/python3.7/dist-packages (from dython) (5.9.2)\n",
            "Requirement already satisfied: packaging>=20.0 in /usr/local/lib/python3.7/dist-packages (from matplotlib>=3.4.3->dython) (21.3)\n",
            "Requirement already satisfied: pyparsing>=2.2.1 in /usr/local/lib/python3.7/dist-packages (from matplotlib>=3.4.3->dython) (3.0.9)\n",
            "Requirement already satisfied: fonttools>=4.22.0 in /usr/local/lib/python3.7/dist-packages (from matplotlib>=3.4.3->dython) (4.37.4)\n",
            "Requirement already satisfied: pillow>=6.2.0 in /usr/local/lib/python3.7/dist-packages (from matplotlib>=3.4.3->dython) (7.1.2)\n",
            "Requirement already satisfied: cycler>=0.10 in /usr/local/lib/python3.7/dist-packages (from matplotlib>=3.4.3->dython) (0.11.0)\n",
            "Requirement already satisfied: python-dateutil>=2.7 in /usr/local/lib/python3.7/dist-packages (from matplotlib>=3.4.3->dython) (2.8.2)\n",
            "Requirement already satisfied: kiwisolver>=1.0.1 in /usr/local/lib/python3.7/dist-packages (from matplotlib>=3.4.3->dython) (1.4.4)\n",
            "Requirement already satisfied: typing-extensions in /usr/local/lib/python3.7/dist-packages (from kiwisolver>=1.0.1->matplotlib>=3.4.3->dython) (4.1.1)\n",
            "Requirement already satisfied: pytz>=2017.3 in /usr/local/lib/python3.7/dist-packages (from pandas>=1.3.2->dython) (2022.2.1)\n",
            "Requirement already satisfied: six>=1.5 in /usr/local/lib/python3.7/dist-packages (from python-dateutil>=2.7->matplotlib>=3.4.3->dython) (1.15.0)\n",
            "Requirement already satisfied: threadpoolctl>=2.0.0 in /usr/local/lib/python3.7/dist-packages (from scikit-learn>=0.24.2->dython) (3.1.0)\n",
            "Requirement already satisfied: joblib>=0.11 in /usr/local/lib/python3.7/dist-packages (from scikit-learn>=0.24.2->dython) (1.1.0)\n"
          ]
        }
      ]
    },
    {
      "cell_type": "code",
      "source": [
        "associations(eda_df)"
      ],
      "metadata": {
        "id": "b2MY35Ox4FVb",
        "colab": {
          "base_uri": "https://localhost:8080/",
          "height": 823
        },
        "outputId": "636061f1-aae9-4980-e9b0-8606b1b9601b"
      },
      "execution_count": 69,
      "outputs": [
        {
          "output_type": "display_data",
          "data": {
            "text/plain": [
              "<Figure size 432x288 with 2 Axes>"
            ],
            "image/png": "[encoded data removed]"
          },
          "metadata": {
            "needs_background": "light"
          }
        },
        {
          "output_type": "execute_result",
          "data": {
            "text/plain": [
              "{'corr':                winery      wine      year    rating  num_reviews  country  \\\n",
              " winery       1.000000  0.803182  0.000000  0.669809     0.683594      0.0   \n",
              " wine         0.803182  1.000000  0.000000  0.874033     0.774038      0.0   \n",
              " year         0.000000  0.000000  1.000000  0.342570     0.199015      0.0   \n",
              " rating       0.669809  0.874033  0.342570  1.000000    -0.098582      0.0   \n",
              " num_reviews  0.683594  0.774038  0.199015 -0.098582     1.000000      0.0   \n",
              " country      0.000000  0.000000  0.000000  0.000000     0.000000      0.0   \n",
              " region       0.807281  0.750822  0.011150  0.330868     0.214327      0.0   \n",
              " price        0.651181  0.858688  0.470884  0.507287    -0.065395      0.0   \n",
              " type         0.728358  0.750869  0.242304  0.292851     0.204457      0.0   \n",
              " body         0.676636  0.814446  0.265090  0.253934    -0.012835      0.0   \n",
              " acidity      0.651469  0.806398  0.256086  0.152917    -0.034882      0.0   \n",
              " \n",
              "                region     price      type      body   acidity  \n",
              " winery       0.807281  0.651181  0.728358  0.676636  0.651469  \n",
              " wine         0.750822  0.858688  0.750869  0.814446  0.806398  \n",
              " year         0.011150  0.470884  0.242304  0.265090  0.256086  \n",
              " rating       0.330868  0.507287  0.292851  0.253934  0.152917  \n",
              " num_reviews  0.214327 -0.065395  0.204457 -0.012835 -0.034882  \n",
              " country      0.000000  0.000000  0.000000  0.000000  0.000000  \n",
              " region       1.000000  0.264825  0.753197  0.548855  0.473664  \n",
              " price        0.264825  1.000000  0.250981  0.182220  0.122282  \n",
              " type         0.753197  0.250981  1.000000  0.666896  0.633702  \n",
              " body         0.548855  0.182220  0.666896  1.000000  0.868866  \n",
              " acidity      0.473664  0.122282  0.633702  0.868866  1.000000  ,\n",
              " 'ax': <AxesSubplot:>}"
            ]
          },
          "metadata": {},
          "execution_count": 69
        }
      ]
    },
    {
      "cell_type": "markdown",
      "source": [
        "#Model Development"
      ],
      "metadata": {
        "id": "nX0q48QblE82"
      }
    },
    {
      "cell_type": "code",
      "source": [
        "#Import Libraries\n",
        "from sklearn.linear_model import LinearRegression\n",
        "from sklearn.model_selection import train_test_split, GridSearchCV\n",
        "from sklearn.preprocessing import StandardScaler, OneHotEncoder\n",
        "from sklearn.pipeline import make_pipeline\n",
        "from sklearn.compose import make_column_transformer, make_column_selector\n",
        "from sklearn.metrics import mean_absolute_error, mean_squared_error, r2_score\n",
        "from sklearn.neighbors import KNeighborsRegressor\n",
        "from sklearn.ensemble import RandomForestRegressor\n",
        "from sklearn.impute import SimpleImputer"
      ],
      "metadata": {
        "id": "eVv1z4nSm-4k"
      },
      "execution_count": 70,
      "outputs": []
    },
    {
      "cell_type": "code",
      "source": [
        "ml_df = df.copy()\n",
        "ml_df.head()"
      ],
      "metadata": {
        "colab": {
          "base_uri": "https://localhost:8080/",
          "height": 444
        },
        "id": "ybylDcMwljTQ",
        "outputId": "4765a593-7da5-4a56-a1e2-0cb67308ee3b"
      },
      "execution_count": 188,
      "outputs": [
        {
          "output_type": "execute_result",
          "data": {
            "text/plain": [
              "          winery           wine  year  rating  num_reviews country  \\\n",
              "0  Teso La Monja          Tinto  2013     4.9           58  Espana   \n",
              "1         Artadi  Vina El Pison  2018     4.9           31  Espana   \n",
              "2   Vega Sicilia          Unico  2009     4.8         1793  Espana   \n",
              "3   Vega Sicilia          Unico  1999     4.8         1705  Espana   \n",
              "4   Vega Sicilia          Unico  1996     4.8         1309  Espana   \n",
              "\n",
              "             region   price                  type  body  acidity  \n",
              "0              Toro  995.00              Toro Red   5.0      3.0  \n",
              "1    Vino de Espana  313.50           Tempranillo   4.0      2.0  \n",
              "2  Ribera del Duero  324.95  Ribera Del Duero Red   5.0      3.0  \n",
              "3  Ribera del Duero  692.96  Ribera Del Duero Red   5.0      3.0  \n",
              "4  Ribera del Duero  778.06  Ribera Del Duero Red   5.0      3.0  "
            ],
            "text/html": [
              "\n",
              "  <div id=\"df-5030dda5-0fd3-49a4-963c-9959823b66ad\">\n",
              "    <div class=\"colab-df-container\">\n",
              "      <div>\n",
              "<style scoped>\n",
              "    .dataframe tbody tr th:only-of-type {\n",
              "        vertical-align: middle;\n",
              "    }\n",
              "\n",
              "    .dataframe tbody tr th {\n",
              "        vertical-align: top;\n",
              "    }\n",
              "\n",
              "    .dataframe thead th {\n",
              "        text-align: right;\n",
              "    }\n",
              "</style>\n",
              "<table border=\"1\" class=\"dataframe\">\n",
              "  <thead>\n",
              "    <tr style=\"text-align: right;\">\n",
              "      <th></th>\n",
              "      <th>winery</th>\n",
              "      <th>wine</th>\n",
              "      <th>year</th>\n",
              "      <th>rating</th>\n",
              "      <th>num_reviews</th>\n",
              "      <th>country</th>\n",
              "      <th>region</th>\n",
              "      <th>price</th>\n",
              "      <th>type</th>\n",
              "      <th>body</th>\n",
              "      <th>acidity</th>\n",
              "    </tr>\n",
              "  </thead>\n",
              "  <tbody>\n",
              "    <tr>\n",
              "      <th>0</th>\n",
              "      <td>Teso La Monja</td>\n",
              "      <td>Tinto</td>\n",
              "      <td>2013</td>\n",
              "      <td>4.9</td>\n",
              "      <td>58</td>\n",
              "      <td>Espana</td>\n",
              "      <td>Toro</td>\n",
              "      <td>995.00</td>\n",
              "      <td>Toro Red</td>\n",
              "      <td>5.0</td>\n",
              "      <td>3.0</td>\n",
              "    </tr>\n",
              "    <tr>\n",
              "      <th>1</th>\n",
              "      <td>Artadi</td>\n",
              "      <td>Vina El Pison</td>\n",
              "      <td>2018</td>\n",
              "      <td>4.9</td>\n",
              "      <td>31</td>\n",
              "      <td>Espana</td>\n",
              "      <td>Vino de Espana</td>\n",
              "      <td>313.50</td>\n",
              "      <td>Tempranillo</td>\n",
              "      <td>4.0</td>\n",
              "      <td>2.0</td>\n",
              "    </tr>\n",
              "    <tr>\n",
              "      <th>2</th>\n",
              "      <td>Vega Sicilia</td>\n",
              "      <td>Unico</td>\n",
              "      <td>2009</td>\n",
              "      <td>4.8</td>\n",
              "      <td>1793</td>\n",
              "      <td>Espana</td>\n",
              "      <td>Ribera del Duero</td>\n",
              "      <td>324.95</td>\n",
              "      <td>Ribera Del Duero Red</td>\n",
              "      <td>5.0</td>\n",
              "      <td>3.0</td>\n",
              "    </tr>\n",
              "    <tr>\n",
              "      <th>3</th>\n",
              "      <td>Vega Sicilia</td>\n",
              "      <td>Unico</td>\n",
              "      <td>1999</td>\n",
              "      <td>4.8</td>\n",
              "      <td>1705</td>\n",
              "      <td>Espana</td>\n",
              "      <td>Ribera del Duero</td>\n",
              "      <td>692.96</td>\n",
              "      <td>Ribera Del Duero Red</td>\n",
              "      <td>5.0</td>\n",
              "      <td>3.0</td>\n",
              "    </tr>\n",
              "    <tr>\n",
              "      <th>4</th>\n",
              "      <td>Vega Sicilia</td>\n",
              "      <td>Unico</td>\n",
              "      <td>1996</td>\n",
              "      <td>4.8</td>\n",
              "      <td>1309</td>\n",
              "      <td>Espana</td>\n",
              "      <td>Ribera del Duero</td>\n",
              "      <td>778.06</td>\n",
              "      <td>Ribera Del Duero Red</td>\n",
              "      <td>5.0</td>\n",
              "      <td>3.0</td>\n",
              "    </tr>\n",
              "  </tbody>\n",
              "</table>\n",
              "</div>\n",
              "      <button class=\"colab-df-convert\" onclick=\"convertToInteractive('df-5030dda5-0fd3-49a4-963c-9959823b66ad')\"\n",
              "              title=\"Convert this dataframe to an interactive table.\"\n",
              "              style=\"display:none;\">\n",
              "        \n",
              "  <svg xmlns=\"http://www.w3.org/2000/svg\" height=\"24px\"viewBox=\"0 0 24 24\"\n",
              "       width=\"24px\">\n",
              "    <path d=\"M0 0h24v24H0V0z\" fill=\"none\"/>\n",
              "    <path d=\"M18.56 5.44l.94 2.06.94-2.06 2.06-.94-2.06-.94-.94-2.06-.94 2.06-2.06.94zm-11 1L8.5 8.5l.94-2.06 2.06-.94-2.06-.94L8.5 2.5l-.94 2.06-2.06.94zm10 10l.94 2.06.94-2.06 2.06-.94-2.06-.94-.94-2.06-.94 2.06-2.06.94z\"/><path d=\"M17.41 7.96l-1.37-1.37c-.4-.4-.92-.59-1.43-.59-.52 0-1.04.2-1.43.59L10.3 9.45l-7.72 7.72c-.78.78-.78 2.05 0 2.83L4 21.41c.39.39.9.59 1.41.59.51 0 1.02-.2 1.41-.59l7.78-7.78 2.81-2.81c.8-.78.8-2.07 0-2.86zM5.41 20L4 18.59l7.72-7.72 1.47 1.35L5.41 20z\"/>\n",
              "  </svg>\n",
              "      </button>\n",
              "      \n",
              "  <style>\n",
              "    .colab-df-container {\n",
              "      display:flex;\n",
              "      flex-wrap:wrap;\n",
              "      gap: 12px;\n",
              "    }\n",
              "\n",
              "    .colab-df-convert {\n",
              "      background-color: #E8F0FE;\n",
              "      border: none;\n",
              "      border-radius: 50%;\n",
              "      cursor: pointer;\n",
              "      display: none;\n",
              "      fill: #1967D2;\n",
              "      height: 32px;\n",
              "      padding: 0 0 0 0;\n",
              "      width: 32px;\n",
              "    }\n",
              "\n",
              "    .colab-df-convert:hover {\n",
              "      background-color: #E2EBFA;\n",
              "      box-shadow: 0px 1px 2px rgba(60, 64, 67, 0.3), 0px 1px 3px 1px rgba(60, 64, 67, 0.15);\n",
              "      fill: #174EA6;\n",
              "    }\n",
              "\n",
              "    [theme=dark] .colab-df-convert {\n",
              "      background-color: #3B4455;\n",
              "      fill: #D2E3FC;\n",
              "    }\n",
              "\n",
              "    [theme=dark] .colab-df-convert:hover {\n",
              "      background-color: #434B5C;\n",
              "      box-shadow: 0px 1px 3px 1px rgba(0, 0, 0, 0.15);\n",
              "      filter: drop-shadow(0px 1px 2px rgba(0, 0, 0, 0.3));\n",
              "      fill: #FFFFFF;\n",
              "    }\n",
              "  </style>\n",
              "\n",
              "      <script>\n",
              "        const buttonEl =\n",
              "          document.querySelector('#df-5030dda5-0fd3-49a4-963c-9959823b66ad button.colab-df-convert');\n",
              "        buttonEl.style.display =\n",
              "          google.colab.kernel.accessAllowed ? 'block' : 'none';\n",
              "\n",
              "        async function convertToInteractive(key) {\n",
              "          const element = document.querySelector('#df-5030dda5-0fd3-49a4-963c-9959823b66ad');\n",
              "          const dataTable =\n",
              "            await google.colab.kernel.invokeFunction('convertToInteractive',\n",
              "                                                     [key], {});\n",
              "          if (!dataTable) return;\n",
              "\n",
              "          const docLinkHtml = 'Like what you see? Visit the ' +\n",
              "            '<a target=\"_blank\" href=https://colab.research.google.com/notebooks/data_table.ipynb>data table notebook</a>'\n",
              "            + ' to learn more about interactive tables.';\n",
              "          element.innerHTML = '';\n",
              "          dataTable['output_type'] = 'display_data';\n",
              "          await google.colab.output.renderOutput(dataTable, element);\n",
              "          const docLink = document.createElement('div');\n",
              "          docLink.innerHTML = docLinkHtml;\n",
              "          element.appendChild(docLink);\n",
              "        }\n",
              "      </script>\n",
              "    </div>\n",
              "  </div>\n",
              "  "
            ]
          },
          "metadata": {},
          "execution_count": 188
        }
      ]
    },
    {
      "cell_type": "markdown",
      "source": [
        "Making a copy of original data to perform machine learning on."
      ],
      "metadata": {
        "id": "Cu6mxIsllwhQ"
      }
    },
    {
      "cell_type": "code",
      "source": [
        "ml_df.duplicated().sum()"
      ],
      "metadata": {
        "colab": {
          "base_uri": "https://localhost:8080/"
        },
        "id": "biQaRECMlkOr",
        "outputId": "69ec71dc-a463-4914-c299-36e771cac631"
      },
      "execution_count": 189,
      "outputs": [
        {
          "output_type": "execute_result",
          "data": {
            "text/plain": [
              "5452"
            ]
          },
          "metadata": {},
          "execution_count": 189
        }
      ]
    },
    {
      "cell_type": "code",
      "source": [
        "#Drop duplicates\n",
        "ml_df = ml_df.drop_duplicates()\n",
        "ml_df.duplicated().sum()"
      ],
      "metadata": {
        "colab": {
          "base_uri": "https://localhost:8080/"
        },
        "id": "9scKKKf3l2sF",
        "outputId": "59a79dab-256b-471d-e73e-4c679f8b5e99"
      },
      "execution_count": 190,
      "outputs": [
        {
          "output_type": "execute_result",
          "data": {
            "text/plain": [
              "0"
            ]
          },
          "metadata": {},
          "execution_count": 190
        }
      ]
    },
    {
      "cell_type": "code",
      "source": [
        "#Check for missing\n",
        "ml_df.isna().sum()"
      ],
      "metadata": {
        "colab": {
          "base_uri": "https://localhost:8080/"
        },
        "id": "Bew119wwl8TG",
        "outputId": "28180d69-e7c3-4a2a-fe7b-0f79712fa46e"
      },
      "execution_count": 225,
      "outputs": [
        {
          "output_type": "execute_result",
          "data": {
            "text/plain": [
              "winery           0\n",
              "wine             0\n",
              "year             2\n",
              "rating           0\n",
              "num_reviews      0\n",
              "country          0\n",
              "region           0\n",
              "price            0\n",
              "type           106\n",
              "body           271\n",
              "acidity        271\n",
              "dtype: int64"
            ]
          },
          "metadata": {},
          "execution_count": 225
        }
      ]
    },
    {
      "cell_type": "markdown",
      "source": [
        "Missings will be dealt during the machine learning pipeline. "
      ],
      "metadata": {
        "id": "dXspD74kmd_3"
      }
    },
    {
      "cell_type": "markdown",
      "source": [
        "Based on the association from above during the cleaning I will be dropping the columns 'country' and 'region' because they don't have a strong assocaition with price. "
      ],
      "metadata": {
        "id": "EkThxLaUqygV"
      }
    },
    {
      "cell_type": "code",
      "source": [
        "ml_df.drop(columns=['region','country'], inplace=True)"
      ],
      "metadata": {
        "id": "FW91yn61qyDa"
      },
      "execution_count": 226,
      "outputs": []
    },
    {
      "cell_type": "code",
      "source": [
        "#Assign the target and feature\n",
        "y = ml_df['price']\n",
        "X = ml_df.drop(columns='price')"
      ],
      "metadata": {
        "id": "hirEMHtQmcwv"
      },
      "execution_count": 227,
      "outputs": []
    },
    {
      "cell_type": "code",
      "source": [
        "#Train Test Split the Data\n",
        "X_train, X_test, y_train, y_test = train_test_split(X,y,random_state=42)"
      ],
      "metadata": {
        "id": "arS_0HNEmwtA"
      },
      "execution_count": 228,
      "outputs": []
    },
    {
      "cell_type": "code",
      "source": [
        "#Pre-process for Machine Learning with a pipeline\n",
        "#Dummy encode the categorical feature(s) using OneHotEncoder (this will be a part of our pipeline)\n",
        "#Scale teh quantitative feature(s) using StandardScaler so it (this will be pare of our pipeline)\n",
        "\n",
        "#There is only one categorical feature (column) here but it can be very helpful to define a variable for each type of feature... be careful defing features based only on dtype\n",
        "cat_feat = make_column_selector(dtype_include = 'object')\n",
        "#This will identify all the quantitavi features columns\n",
        "quant_feat = make_column_selector(dtype_include ='number')\n",
        "\n",
        "#Instantiate the column transformer you want to use\n",
        "encoder = OneHotEncoder(sparse= False, handle_unknown = 'ignore')\n",
        "\n",
        "#Scale the data to be ready for clustering (KNN)\n",
        "scaler = StandardScaler()\n",
        "\n",
        "#We will use mean imputer to impute values missing for the numeric columns\n",
        "mean_imputer = SimpleImputer(strategy='mean')\n",
        "\n",
        "#We will use most frequent imputer to impute values for the categorical columns\n",
        "freq_imputer = SimpleImputer(strategy='most_frequent')"
      ],
      "metadata": {
        "id": "-_BBQipVREao"
      },
      "execution_count": 229,
      "outputs": []
    },
    {
      "cell_type": "code",
      "source": [
        "num_processor = make_pipeline(mean_imputer, scaler)\n",
        "cat_processor = make_pipeline(freq_imputer, encoder)"
      ],
      "metadata": {
        "id": "qSMzml3ASvQ4"
      },
      "execution_count": 230,
      "outputs": []
    },
    {
      "cell_type": "code",
      "source": [
        "num_tuple = (num_processor, quant_feat)\n",
        "cat_tuple = (cat_processor, cat_feat)"
      ],
      "metadata": {
        "id": "ctfKSdwzS6op"
      },
      "execution_count": 231,
      "outputs": []
    },
    {
      "cell_type": "code",
      "source": [
        "#Now make the column transformer... this matches the transformations that we want with teh approriate columns.\n",
        "column_transformer = make_column_transformer(num_tuple, cat_tuple, remainder ='passthrough')"
      ],
      "metadata": {
        "id": "S5nuauMRTHWh"
      },
      "execution_count": 232,
      "outputs": []
    },
    {
      "cell_type": "code",
      "source": [
        "#Try a default KNN model in the pipeline\n",
        "#Instantiate the model\n",
        "knn = KNeighborsRegressor()\n",
        "\n",
        "#Make the pipeline...notice we included teh column_transformer her\n",
        "knn_pipe = make_pipeline(column_transformer, knn)"
      ],
      "metadata": {
        "id": "-VYsmU67WQFN"
      },
      "execution_count": 233,
      "outputs": []
    },
    {
      "cell_type": "code",
      "source": [
        "#Fit on training data only\n",
        "knn_pipe.fit(X_train, y_train)\n",
        "\n",
        "#Obtain evaluation metrics on both the train and test sets.\n",
        "print('KNN Training RMSE:', np.sqrt(mean_squared_error(y_train, knn_pipe.predict(X_train))))\n",
        "print('KNN Test RMSE:', np.sqrt(mean_squared_error(y_test,knn_pipe.predict(X_test))))\n",
        "print('-----')\n",
        "print('KNN Training R2:', r2_score(y_train, knn_pipe.predict(X_train)))\n",
        "print('KNN Testing R2:', r2_score(y_test, knn_pipe.predict(X_test)))"
      ],
      "metadata": {
        "colab": {
          "base_uri": "https://localhost:8080/"
        },
        "id": "OAjcmp2qW9SC",
        "outputId": "98b05614-84ae-4072-d916-12ac871e1ca1"
      },
      "execution_count": 234,
      "outputs": [
        {
          "output_type": "stream",
          "name": "stdout",
          "text": [
            "KNN Training RMSE: 116.43955051980967\n",
            "KNN Test RMSE: 171.91515129997822\n",
            "-----\n",
            "KNN Training R2: 0.8217290686713979\n",
            "KNN Testing R2: 0.5644332494491799\n"
          ]
        }
      ]
    },
    {
      "cell_type": "code",
      "source": [
        "#Hypertune the KNN model\n",
        "# The following code gvies a lits of hyperparameters to tune and how to define them within a pipeline usoing the model name\n",
        "\n",
        "knn_pipe.get_params()"
      ],
      "metadata": {
        "colab": {
          "base_uri": "https://localhost:8080/"
        },
        "id": "wwfATyRaXNTQ",
        "outputId": "35be7b10-ca17-4dd4-f1fe-bea13c67a795"
      },
      "execution_count": 235,
      "outputs": [
        {
          "output_type": "execute_result",
          "data": {
            "text/plain": [
              "{'memory': None,\n",
              " 'steps': [('columntransformer', ColumnTransformer(remainder='passthrough',\n",
              "                     transformers=[('pipeline-1',\n",
              "                                    Pipeline(steps=[('simpleimputer',\n",
              "                                                     SimpleImputer()),\n",
              "                                                    ('standardscaler',\n",
              "                                                     StandardScaler())]),\n",
              "                                    <sklearn.compose._column_transformer.make_column_selector object at 0x7ff31c4eca10>),\n",
              "                                   ('pipeline-2',\n",
              "                                    Pipeline(steps=[('simpleimputer',\n",
              "                                                     SimpleImputer(strategy='most_frequent')),\n",
              "                                                    ('onehotencoder',\n",
              "                                                     OneHotEncoder(handle_unknown='ignore',\n",
              "                                                                   sparse=False))]),\n",
              "                                    <sklearn.compose._column_transformer.make_column_selector object at 0x7ff31c4ec990>)])),\n",
              "  ('kneighborsregressor', KNeighborsRegressor())],\n",
              " 'verbose': False,\n",
              " 'columntransformer': ColumnTransformer(remainder='passthrough',\n",
              "                   transformers=[('pipeline-1',\n",
              "                                  Pipeline(steps=[('simpleimputer',\n",
              "                                                   SimpleImputer()),\n",
              "                                                  ('standardscaler',\n",
              "                                                   StandardScaler())]),\n",
              "                                  <sklearn.compose._column_transformer.make_column_selector object at 0x7ff31c4eca10>),\n",
              "                                 ('pipeline-2',\n",
              "                                  Pipeline(steps=[('simpleimputer',\n",
              "                                                   SimpleImputer(strategy='most_frequent')),\n",
              "                                                  ('onehotencoder',\n",
              "                                                   OneHotEncoder(handle_unknown='ignore',\n",
              "                                                                 sparse=False))]),\n",
              "                                  <sklearn.compose._column_transformer.make_column_selector object at 0x7ff31c4ec990>)]),\n",
              " 'kneighborsregressor': KNeighborsRegressor(),\n",
              " 'columntransformer__n_jobs': None,\n",
              " 'columntransformer__remainder': 'passthrough',\n",
              " 'columntransformer__sparse_threshold': 0.3,\n",
              " 'columntransformer__transformer_weights': None,\n",
              " 'columntransformer__transformers': [('pipeline-1',\n",
              "   Pipeline(steps=[('simpleimputer', SimpleImputer()),\n",
              "                   ('standardscaler', StandardScaler())]),\n",
              "   <sklearn.compose._column_transformer.make_column_selector at 0x7ff31c4eca10>),\n",
              "  ('pipeline-2',\n",
              "   Pipeline(steps=[('simpleimputer', SimpleImputer(strategy='most_frequent')),\n",
              "                   ('onehotencoder',\n",
              "                    OneHotEncoder(handle_unknown='ignore', sparse=False))]),\n",
              "   <sklearn.compose._column_transformer.make_column_selector at 0x7ff31c4ec990>)],\n",
              " 'columntransformer__verbose': False,\n",
              " 'columntransformer__verbose_feature_names_out': True,\n",
              " 'columntransformer__pipeline-1': Pipeline(steps=[('simpleimputer', SimpleImputer()),\n",
              "                 ('standardscaler', StandardScaler())]),\n",
              " 'columntransformer__pipeline-2': Pipeline(steps=[('simpleimputer', SimpleImputer(strategy='most_frequent')),\n",
              "                 ('onehotencoder',\n",
              "                  OneHotEncoder(handle_unknown='ignore', sparse=False))]),\n",
              " 'columntransformer__pipeline-1__memory': None,\n",
              " 'columntransformer__pipeline-1__steps': [('simpleimputer', SimpleImputer()),\n",
              "  ('standardscaler', StandardScaler())],\n",
              " 'columntransformer__pipeline-1__verbose': False,\n",
              " 'columntransformer__pipeline-1__simpleimputer': SimpleImputer(),\n",
              " 'columntransformer__pipeline-1__standardscaler': StandardScaler(),\n",
              " 'columntransformer__pipeline-1__simpleimputer__add_indicator': False,\n",
              " 'columntransformer__pipeline-1__simpleimputer__copy': True,\n",
              " 'columntransformer__pipeline-1__simpleimputer__fill_value': None,\n",
              " 'columntransformer__pipeline-1__simpleimputer__missing_values': nan,\n",
              " 'columntransformer__pipeline-1__simpleimputer__strategy': 'mean',\n",
              " 'columntransformer__pipeline-1__simpleimputer__verbose': 0,\n",
              " 'columntransformer__pipeline-1__standardscaler__copy': True,\n",
              " 'columntransformer__pipeline-1__standardscaler__with_mean': True,\n",
              " 'columntransformer__pipeline-1__standardscaler__with_std': True,\n",
              " 'columntransformer__pipeline-2__memory': None,\n",
              " 'columntransformer__pipeline-2__steps': [('simpleimputer',\n",
              "   SimpleImputer(strategy='most_frequent')),\n",
              "  ('onehotencoder', OneHotEncoder(handle_unknown='ignore', sparse=False))],\n",
              " 'columntransformer__pipeline-2__verbose': False,\n",
              " 'columntransformer__pipeline-2__simpleimputer': SimpleImputer(strategy='most_frequent'),\n",
              " 'columntransformer__pipeline-2__onehotencoder': OneHotEncoder(handle_unknown='ignore', sparse=False),\n",
              " 'columntransformer__pipeline-2__simpleimputer__add_indicator': False,\n",
              " 'columntransformer__pipeline-2__simpleimputer__copy': True,\n",
              " 'columntransformer__pipeline-2__simpleimputer__fill_value': None,\n",
              " 'columntransformer__pipeline-2__simpleimputer__missing_values': nan,\n",
              " 'columntransformer__pipeline-2__simpleimputer__strategy': 'most_frequent',\n",
              " 'columntransformer__pipeline-2__simpleimputer__verbose': 0,\n",
              " 'columntransformer__pipeline-2__onehotencoder__categories': 'auto',\n",
              " 'columntransformer__pipeline-2__onehotencoder__drop': None,\n",
              " 'columntransformer__pipeline-2__onehotencoder__dtype': numpy.float64,\n",
              " 'columntransformer__pipeline-2__onehotencoder__handle_unknown': 'ignore',\n",
              " 'columntransformer__pipeline-2__onehotencoder__sparse': False,\n",
              " 'kneighborsregressor__algorithm': 'auto',\n",
              " 'kneighborsregressor__leaf_size': 30,\n",
              " 'kneighborsregressor__metric': 'minkowski',\n",
              " 'kneighborsregressor__metric_params': None,\n",
              " 'kneighborsregressor__n_jobs': None,\n",
              " 'kneighborsregressor__n_neighbors': 5,\n",
              " 'kneighborsregressor__p': 2,\n",
              " 'kneighborsregressor__weights': 'uniform'}"
            ]
          },
          "metadata": {},
          "execution_count": 235
        }
      ]
    },
    {
      "cell_type": "code",
      "source": [
        "#Define the hyperparameters you want to test\n",
        "knn_params = {'kneighborsregressor__n_neighbors':[5,7,9,11],\n",
        "              'kneighborsregressor__leaf_size':[15,20,30]}"
      ],
      "metadata": {
        "id": "w25b0QUZYrz-"
      },
      "execution_count": 236,
      "outputs": []
    },
    {
      "cell_type": "code",
      "source": [
        "#Instantiate the GridSearch with the KNN pipeline and the knn_params\n",
        "knn_gs = GridSearchCV(knn_pipe, knn_params)\n",
        "\n",
        "\n"
      ],
      "metadata": {
        "id": "ThvxWBBCZCGn"
      },
      "execution_count": 237,
      "outputs": []
    },
    {
      "cell_type": "code",
      "source": [
        "knn_gs.fit(X_train,y_train)"
      ],
      "metadata": {
        "colab": {
          "base_uri": "https://localhost:8080/"
        },
        "id": "uoQcPDqLaL17",
        "outputId": "9ec17a88-afdd-4c9b-ed27-0d117b314438"
      },
      "execution_count": 238,
      "outputs": [
        {
          "output_type": "execute_result",
          "data": {
            "text/plain": [
              "GridSearchCV(estimator=Pipeline(steps=[('columntransformer',\n",
              "                                        ColumnTransformer(remainder='passthrough',\n",
              "                                                          transformers=[('pipeline-1',\n",
              "                                                                         Pipeline(steps=[('simpleimputer',\n",
              "                                                                                          SimpleImputer()),\n",
              "                                                                                         ('standardscaler',\n",
              "                                                                                          StandardScaler())]),\n",
              "                                                                         <sklearn.compose._column_transformer.make_column_selector object at 0x7ff31c4eca10>),\n",
              "                                                                        ('pipeline-2',\n",
              "                                                                         Pipeline(steps=[('simpleimputer',\n",
              "                                                                                          SimpleImputer(strategy='most_frequent')),\n",
              "                                                                                         ('onehotencoder',\n",
              "                                                                                          OneHotEncoder(handle_unknown='ignore',\n",
              "                                                                                                        sparse=False))]),\n",
              "                                                                         <sklearn.compose._column_transformer.make_column_selector object at 0x7ff31c4ec990>)])),\n",
              "                                       ('kneighborsregressor',\n",
              "                                        KNeighborsRegressor())]),\n",
              "             param_grid={'kneighborsregressor__leaf_size': [15, 20, 30],\n",
              "                         'kneighborsregressor__n_neighbors': [5, 7, 9, 11]})"
            ]
          },
          "metadata": {},
          "execution_count": 238
        }
      ]
    },
    {
      "cell_type": "code",
      "source": [
        "#see which hyperparameters gave the best results\n",
        "knn_gs.best_params_"
      ],
      "metadata": {
        "colab": {
          "base_uri": "https://localhost:8080/"
        },
        "id": "fuGB-fhuZpJo",
        "outputId": "0a8b8710-fd40-49d5-ecf2-e9716c6a1e47"
      },
      "execution_count": 239,
      "outputs": [
        {
          "output_type": "execute_result",
          "data": {
            "text/plain": [
              "{'kneighborsregressor__leaf_size': 15, 'kneighborsregressor__n_neighbors': 9}"
            ]
          },
          "metadata": {},
          "execution_count": 239
        }
      ]
    },
    {
      "cell_type": "code",
      "source": [
        "print('KNN_GS Training RMSE:', np.sqrt(mean_squared_error(y_train, knn_gs.predict(X_train))))\n",
        "print('KNN_GS Test RMSE:', np.sqrt(mean_squared_error(y_test,knn_gs.predict(X_test))))\n",
        "print('-----')\n",
        "print('KNN_GS Training R2:', r2_score(y_train, knn_gs.predict(X_train)))\n",
        "print('KNN_GS Testing R2:', r2_score(y_test, knn_gs.predict(X_test)))"
      ],
      "metadata": {
        "colab": {
          "base_uri": "https://localhost:8080/"
        },
        "id": "i6AeVSgLaFRN",
        "outputId": "8362c55e-a0a1-485f-9484-129fa7313a67"
      },
      "execution_count": 240,
      "outputs": [
        {
          "output_type": "stream",
          "name": "stdout",
          "text": [
            "KNN_GS Training RMSE: 136.37236655701446\n",
            "KNN_GS Test RMSE: 174.7422276892105\n",
            "-----\n",
            "KNN_GS Training R2: 0.7554699441517364\n",
            "KNN_GS Testing R2: 0.5499900168605133\n"
          ]
        }
      ]
    },
    {
      "cell_type": "code",
      "source": [
        "#Try a default linear regression model in the pipeline\n",
        "#Instantiate the model, notice that you can change the hyperparameters in this step. This just shows setting a random_state\n",
        "# We will use defualts here since our hyperparameters will be done with GridSearchCV\n",
        "lr = LinearRegression()"
      ],
      "metadata": {
        "id": "o-eQr5TlsVtP"
      },
      "execution_count": 241,
      "outputs": []
    },
    {
      "cell_type": "code",
      "source": [
        "#Make the pipeline and include the column_transformer\n",
        "lr_pipe = make_pipeline(column_transformer, lr)\n",
        "#fit on teh training data\n",
        "lr_pipe.fit(X_train,y_train)\n",
        "\n",
        "#Obtain evaluation metrics on both train and test sets\n",
        "print('RF Training RMSE:', np.sqrt(mean_squared_error(y_train, lr_pipe.predict(X_train))))\n",
        "print('RF Testing RMSE:', np.sqrt(mean_squared_error(y_test, lr_pipe.predict(X_test))))\n",
        "print('RF Training R2:', r2_score(y_train, lr_pipe.predict(X_train)))\n",
        "print('RF Testing R2:', r2_score(y_test, lr_pipe.predict(X_test)))"
      ],
      "metadata": {
        "colab": {
          "base_uri": "https://localhost:8080/"
        },
        "outputId": "5e49eca8-ae22-46ac-9f98-48a63d2adb11",
        "id": "Dfb7Harpsg08"
      },
      "execution_count": 242,
      "outputs": [
        {
          "output_type": "stream",
          "name": "stdout",
          "text": [
            "RF Training RMSE: 90.22762712274984\n",
            "RF Testing RMSE: 75352984217647.19\n",
            "RF Training R2: 0.8929569278446096\n",
            "RF Testing R2: -8.36810893752042e+22\n"
          ]
        }
      ]
    },
    {
      "cell_type": "markdown",
      "source": [
        "Based on the models and hypertuning them the KNN model is the best one to use. However, I am going to attempt PCA model to see if there are better results."
      ],
      "metadata": {
        "id": "p4BU538Q003r"
      }
    },
    {
      "cell_type": "markdown",
      "source": [
        "#PCA Model"
      ],
      "metadata": {
        "id": "ssfbJk7s-zXx"
      }
    },
    {
      "cell_type": "code",
      "source": [
        "#Import Libraries\n",
        "from sklearn.preprocessing import LabelEncoder, StandardScaler\n",
        "from sklearn.decomposition import PCA\n",
        "from sklearn.linear_model import LogisticRegression"
      ],
      "metadata": {
        "id": "iwfptdiI-1a1"
      },
      "execution_count": 243,
      "outputs": []
    },
    {
      "cell_type": "code",
      "source": [
        "pca_pipe = make_pipeline(column_transformer)"
      ],
      "metadata": {
        "id": "RMa1W4VHWCko"
      },
      "execution_count": 244,
      "outputs": []
    },
    {
      "cell_type": "code",
      "source": [
        "pca_df= pca_pipe.fit_transform(X_train)"
      ],
      "metadata": {
        "id": "R7_WtJedWNfG"
      },
      "execution_count": 245,
      "outputs": []
    },
    {
      "cell_type": "code",
      "source": [
        "#Apply PCA\n",
        "\n",
        "#Instantiate, fit and transform data using PCA\n",
        "pca = PCA(n_components=10)\n",
        "pcs= pca.fit_transform(pca_df)"
      ],
      "metadata": {
        "id": "XWi3Y767Uac2"
      },
      "execution_count": 246,
      "outputs": []
    },
    {
      "cell_type": "code",
      "source": [
        "X_train.shape"
      ],
      "metadata": {
        "colab": {
          "base_uri": "https://localhost:8080/"
        },
        "id": "pIjDj7jNYeih",
        "outputId": "e3863e21-badb-4ac1-b932-8ac5a9258ca1"
      },
      "execution_count": 247,
      "outputs": [
        {
          "output_type": "execute_result",
          "data": {
            "text/plain": [
              "(1536, 8)"
            ]
          },
          "metadata": {},
          "execution_count": 247
        }
      ]
    },
    {
      "cell_type": "markdown",
      "source": [
        "Going to fit the PCA model and run it with the Linear and KNN models. For the PCA will be using compenents = .95 and then also use the column_transformer to run the model through all the preprocessing from earlier"
      ],
      "metadata": {
        "id": "quVcep-YBt8w"
      }
    },
    {
      "cell_type": "code",
      "source": [
        "#Create a transformer pipeline\n",
        "transformer = make_pipeline(column_transformer, PCA(n_components=.95))"
      ],
      "metadata": {
        "id": "3uQiRCjGB9cO"
      },
      "execution_count": 293,
      "outputs": []
    },
    {
      "cell_type": "code",
      "source": [
        "#Put PCA in linear pipeline\n",
        "pca_linreg = LinearRegression()\n"
      ],
      "metadata": {
        "id": "mgXZ4d6lCMkd"
      },
      "execution_count": 294,
      "outputs": []
    },
    {
      "cell_type": "code",
      "source": [
        "#Create a modeling pipeline\n",
        "pca_linreg_pipe = make_pipeline(transformer, pca_linreg)\n",
        "pca_linreg_pipe.fit(X_train,y_train)"
      ],
      "metadata": {
        "colab": {
          "base_uri": "https://localhost:8080/"
        },
        "id": "4EDwv6C0Cfcg",
        "outputId": "b912429f-59e2-4023-db3f-3e7c51de7f92"
      },
      "execution_count": 296,
      "outputs": [
        {
          "output_type": "execute_result",
          "data": {
            "text/plain": [
              "Pipeline(steps=[('pipeline',\n",
              "                 Pipeline(steps=[('columntransformer',\n",
              "                                  ColumnTransformer(remainder='passthrough',\n",
              "                                                    transformers=[('pipeline-1',\n",
              "                                                                   Pipeline(steps=[('simpleimputer',\n",
              "                                                                                    SimpleImputer()),\n",
              "                                                                                   ('standardscaler',\n",
              "                                                                                    StandardScaler())]),\n",
              "                                                                   <sklearn.compose._column_transformer.make_column_selector object at 0x7ff31c4eca10>),\n",
              "                                                                  ('pipeline-2',\n",
              "                                                                   Pipeline(steps=[('simpleimputer',\n",
              "                                                                                    SimpleImputer(strategy='most_frequent')),\n",
              "                                                                                   ('onehotencoder',\n",
              "                                                                                    OneHotEncoder(handle_unknown='ignore',\n",
              "                                                                                                  sparse=False))]),\n",
              "                                                                   <sklearn.compose._column_transformer.make_column_selector object at 0x7ff31c4ec990>)])),\n",
              "                                 ('pca', PCA(n_components=0.95))])),\n",
              "                ('linearregression', LinearRegression())])"
            ]
          },
          "metadata": {},
          "execution_count": 296
        }
      ]
    },
    {
      "cell_type": "code",
      "source": [
        "#Evaluate Model\n",
        "print('PCA Linear Training RMSE:', np.sqrt(mean_squared_error(y_train, pca_linreg_pipe.predict(X_train))))\n",
        "print('PCA Linear Test RMSE:', np.sqrt(mean_squared_error(y_test,pca_linreg_pipe.predict(X_test))))\n",
        "print('-----')\n",
        "print('PCA Linear Training R2:', r2_score(y_train, pca_linreg_pipe.predict(X_train)))\n",
        "print('PCA Linear Testing R2:', r2_score(y_test, pca_linreg_pipe.predict(X_test)))"
      ],
      "metadata": {
        "id": "WS7CYY6ZCwnq",
        "colab": {
          "base_uri": "https://localhost:8080/"
        },
        "outputId": "c68d4bd1-722a-445a-f8e7-369b2f8a5a4b"
      },
      "execution_count": 297,
      "outputs": [
        {
          "output_type": "stream",
          "name": "stdout",
          "text": [
            "PCA Linear Training RMSE: 114.82922005839413\n",
            "PCA Linear Test RMSE: 179.98282721316815\n",
            "-----\n",
            "PCA Linear Training R2: 0.8266258588186874\n",
            "PCA Linear Testing R2: 0.5225932540329836\n"
          ]
        }
      ]
    },
    {
      "cell_type": "code",
      "source": [
        "#Put PCA in KNN pipeline\n",
        "pca_knn = KNeighborsRegressor()\n"
      ],
      "metadata": {
        "id": "shkdr-eWx7RE"
      },
      "execution_count": 298,
      "outputs": []
    },
    {
      "cell_type": "code",
      "source": [
        "#Create a modeling pipeline\n",
        "pca_knn_pipe = make_pipeline(transformer, pca_knn)\n",
        "pca_knn_pipe.fit(X_train,y_train)"
      ],
      "metadata": {
        "colab": {
          "base_uri": "https://localhost:8080/"
        },
        "outputId": "30a3e8e3-3e08-4700-fde6-822e67b329be",
        "id": "0cDfJAJdyEiA"
      },
      "execution_count": 299,
      "outputs": [
        {
          "output_type": "execute_result",
          "data": {
            "text/plain": [
              "Pipeline(steps=[('pipeline',\n",
              "                 Pipeline(steps=[('columntransformer',\n",
              "                                  ColumnTransformer(remainder='passthrough',\n",
              "                                                    transformers=[('pipeline-1',\n",
              "                                                                   Pipeline(steps=[('simpleimputer',\n",
              "                                                                                    SimpleImputer()),\n",
              "                                                                                   ('standardscaler',\n",
              "                                                                                    StandardScaler())]),\n",
              "                                                                   <sklearn.compose._column_transformer.make_column_selector object at 0x7ff31c4eca10>),\n",
              "                                                                  ('pipeline-2',\n",
              "                                                                   Pipeline(steps=[('simpleimputer',\n",
              "                                                                                    SimpleImputer(strategy='most_frequent')),\n",
              "                                                                                   ('onehotencoder',\n",
              "                                                                                    OneHotEncoder(handle_unknown='ignore',\n",
              "                                                                                                  sparse=False))]),\n",
              "                                                                   <sklearn.compose._column_transformer.make_column_selector object at 0x7ff31c4ec990>)])),\n",
              "                                 ('pca', PCA(n_components=0.95))])),\n",
              "                ('kneighborsregressor', KNeighborsRegressor())])"
            ]
          },
          "metadata": {},
          "execution_count": 299
        }
      ]
    },
    {
      "cell_type": "code",
      "source": [
        "#Evaluate Model\n",
        "print('PCA KNN Training RMSE:', np.sqrt(mean_squared_error(y_train, pca_knn_pipe.predict(X_train))))\n",
        "print('PCA KNN Test RMSE:', np.sqrt(mean_squared_error(y_test,pca_knn_pipe.predict(X_test))))\n",
        "print('-----')\n",
        "print('PCA KNN Training R2:', r2_score(y_train, pca_knn_pipe.predict(X_train)))\n",
        "print('PCA KNN Testing R2:', r2_score(y_test, pca_knn_pipe.predict(X_test)))"
      ],
      "metadata": {
        "colab": {
          "base_uri": "https://localhost:8080/"
        },
        "outputId": "9868ce3f-a7ff-4e6c-c3bb-bfc3f1d1e0e7",
        "id": "A4UsibcwR4EQ"
      },
      "execution_count": 300,
      "outputs": [
        {
          "output_type": "stream",
          "name": "stdout",
          "text": [
            "PCA KNN Training RMSE: 113.81554626080565\n",
            "PCA KNN Test RMSE: 177.92317289780044\n",
            "-----\n",
            "PCA KNN Training R2: 0.8296733255846894\n",
            "PCA KNN Testing R2: 0.533457253302263\n"
          ]
        }
      ]
    },
    {
      "cell_type": "markdown",
      "source": [
        "#Choose Model"
      ],
      "metadata": {
        "id": "5HEqzkprSbkL"
      }
    },
    {
      "cell_type": "markdown",
      "source": [
        "Based on the models we will use the KNN to predict the price of the wine. This gives us the best R2 score of the models and will allow us to do the best price prediction for a wine. This will allow us to get the wine priced so that we can optimize sales."
      ],
      "metadata": {
        "id": "PtJaK6ycSeHA"
      }
    }
  ]
}